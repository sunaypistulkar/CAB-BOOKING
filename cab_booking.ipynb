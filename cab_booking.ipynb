{
  "nbformat": 4,
  "nbformat_minor": 0,
  "metadata": {
    "colab": {
      "name": "mid-project-1.ipynb",
      "provenance": [],
      "collapsed_sections": [],
      "toc_visible": true
    },
    "kernelspec": {
      "name": "python3",
      "display_name": "Python 3"
    },
    "language_info": {
      "name": "python"
    }
  },
  "cells": [
    {
      "cell_type": "markdown",
      "source": [
        "# Train Data"
      ],
      "metadata": {
        "id": "UW3ZeVQliBVa"
      }
    },
    {
      "cell_type": "markdown",
      "source": [
        "##Importing Libraries and train data"
      ],
      "metadata": {
        "id": "5xXB3uusWtAf"
      }
    },
    {
      "cell_type": "code",
      "execution_count": null,
      "metadata": {
        "id": "X5XxpvD4Mn9V"
      },
      "outputs": [],
      "source": [
        "import pandas as pd\n",
        "import numpy as np\n",
        "import matplotlib.pyplot as plt\n",
        "import seaborn as sns\n",
        "import datetime as dt\n",
        "import warnings\n",
        "warnings.filterwarnings('ignore')"
      ]
    },
    {
      "cell_type": "code",
      "source": [
        "df=pd.read_csv(\"train.csv\")\n",
        "df1=pd.read_csv(\"train_label.csv\", header= None)"
      ],
      "metadata": {
        "id": "4ghSVi2VOLoN"
      },
      "execution_count": null,
      "outputs": []
    },
    {
      "cell_type": "code",
      "source": [
        "df1.head()"
      ],
      "metadata": {
        "colab": {
          "base_uri": "https://localhost:8080/",
          "height": 206
        },
        "id": "OR3MveLaTZUs",
        "outputId": "a06606ff-1d85-4d09-b98b-2e176f9f2941"
      },
      "execution_count": null,
      "outputs": [
        {
          "output_type": "execute_result",
          "data": {
            "text/html": [
              "\n",
              "  <div id=\"df-09c84675-2860-4914-b360-5722a42353e7\">\n",
              "    <div class=\"colab-df-container\">\n",
              "      <div>\n",
              "<style scoped>\n",
              "    .dataframe tbody tr th:only-of-type {\n",
              "        vertical-align: middle;\n",
              "    }\n",
              "\n",
              "    .dataframe tbody tr th {\n",
              "        vertical-align: top;\n",
              "    }\n",
              "\n",
              "    .dataframe thead th {\n",
              "        text-align: right;\n",
              "    }\n",
              "</style>\n",
              "<table border=\"1\" class=\"dataframe\">\n",
              "  <thead>\n",
              "    <tr style=\"text-align: right;\">\n",
              "      <th></th>\n",
              "      <th>0</th>\n",
              "    </tr>\n",
              "  </thead>\n",
              "  <tbody>\n",
              "    <tr>\n",
              "      <th>0</th>\n",
              "      <td>504</td>\n",
              "    </tr>\n",
              "    <tr>\n",
              "      <th>1</th>\n",
              "      <td>5</td>\n",
              "    </tr>\n",
              "    <tr>\n",
              "      <th>2</th>\n",
              "      <td>139</td>\n",
              "    </tr>\n",
              "    <tr>\n",
              "      <th>3</th>\n",
              "      <td>209</td>\n",
              "    </tr>\n",
              "    <tr>\n",
              "      <th>4</th>\n",
              "      <td>184</td>\n",
              "    </tr>\n",
              "  </tbody>\n",
              "</table>\n",
              "</div>\n",
              "      <button class=\"colab-df-convert\" onclick=\"convertToInteractive('df-09c84675-2860-4914-b360-5722a42353e7')\"\n",
              "              title=\"Convert this dataframe to an interactive table.\"\n",
              "              style=\"display:none;\">\n",
              "        \n",
              "  <svg xmlns=\"http://www.w3.org/2000/svg\" height=\"24px\"viewBox=\"0 0 24 24\"\n",
              "       width=\"24px\">\n",
              "    <path d=\"M0 0h24v24H0V0z\" fill=\"none\"/>\n",
              "    <path d=\"M18.56 5.44l.94 2.06.94-2.06 2.06-.94-2.06-.94-.94-2.06-.94 2.06-2.06.94zm-11 1L8.5 8.5l.94-2.06 2.06-.94-2.06-.94L8.5 2.5l-.94 2.06-2.06.94zm10 10l.94 2.06.94-2.06 2.06-.94-2.06-.94-.94-2.06-.94 2.06-2.06.94z\"/><path d=\"M17.41 7.96l-1.37-1.37c-.4-.4-.92-.59-1.43-.59-.52 0-1.04.2-1.43.59L10.3 9.45l-7.72 7.72c-.78.78-.78 2.05 0 2.83L4 21.41c.39.39.9.59 1.41.59.51 0 1.02-.2 1.41-.59l7.78-7.78 2.81-2.81c.8-.78.8-2.07 0-2.86zM5.41 20L4 18.59l7.72-7.72 1.47 1.35L5.41 20z\"/>\n",
              "  </svg>\n",
              "      </button>\n",
              "      \n",
              "  <style>\n",
              "    .colab-df-container {\n",
              "      display:flex;\n",
              "      flex-wrap:wrap;\n",
              "      gap: 12px;\n",
              "    }\n",
              "\n",
              "    .colab-df-convert {\n",
              "      background-color: #E8F0FE;\n",
              "      border: none;\n",
              "      border-radius: 50%;\n",
              "      cursor: pointer;\n",
              "      display: none;\n",
              "      fill: #1967D2;\n",
              "      height: 32px;\n",
              "      padding: 0 0 0 0;\n",
              "      width: 32px;\n",
              "    }\n",
              "\n",
              "    .colab-df-convert:hover {\n",
              "      background-color: #E2EBFA;\n",
              "      box-shadow: 0px 1px 2px rgba(60, 64, 67, 0.3), 0px 1px 3px 1px rgba(60, 64, 67, 0.15);\n",
              "      fill: #174EA6;\n",
              "    }\n",
              "\n",
              "    [theme=dark] .colab-df-convert {\n",
              "      background-color: #3B4455;\n",
              "      fill: #D2E3FC;\n",
              "    }\n",
              "\n",
              "    [theme=dark] .colab-df-convert:hover {\n",
              "      background-color: #434B5C;\n",
              "      box-shadow: 0px 1px 3px 1px rgba(0, 0, 0, 0.15);\n",
              "      filter: drop-shadow(0px 1px 2px rgba(0, 0, 0, 0.3));\n",
              "      fill: #FFFFFF;\n",
              "    }\n",
              "  </style>\n",
              "\n",
              "      <script>\n",
              "        const buttonEl =\n",
              "          document.querySelector('#df-09c84675-2860-4914-b360-5722a42353e7 button.colab-df-convert');\n",
              "        buttonEl.style.display =\n",
              "          google.colab.kernel.accessAllowed ? 'block' : 'none';\n",
              "\n",
              "        async function convertToInteractive(key) {\n",
              "          const element = document.querySelector('#df-09c84675-2860-4914-b360-5722a42353e7');\n",
              "          const dataTable =\n",
              "            await google.colab.kernel.invokeFunction('convertToInteractive',\n",
              "                                                     [key], {});\n",
              "          if (!dataTable) return;\n",
              "\n",
              "          const docLinkHtml = 'Like what you see? Visit the ' +\n",
              "            '<a target=\"_blank\" href=https://colab.research.google.com/notebooks/data_table.ipynb>data table notebook</a>'\n",
              "            + ' to learn more about interactive tables.';\n",
              "          element.innerHTML = '';\n",
              "          dataTable['output_type'] = 'display_data';\n",
              "          await google.colab.output.renderOutput(dataTable, element);\n",
              "          const docLink = document.createElement('div');\n",
              "          docLink.innerHTML = docLinkHtml;\n",
              "          element.appendChild(docLink);\n",
              "        }\n",
              "      </script>\n",
              "    </div>\n",
              "  </div>\n",
              "  "
            ],
            "text/plain": [
              "     0\n",
              "0  504\n",
              "1    5\n",
              "2  139\n",
              "3  209\n",
              "4  184"
            ]
          },
          "metadata": {},
          "execution_count": 4
        }
      ]
    },
    {
      "cell_type": "markdown",
      "source": [
        "###Shape of the train data"
      ],
      "metadata": {
        "id": "deKY0dTybKQF"
      }
    },
    {
      "cell_type": "code",
      "source": [
        "print(df.shape)\n",
        "print(df1.shape)"
      ],
      "metadata": {
        "colab": {
          "base_uri": "https://localhost:8080/"
        },
        "id": "wqh7i1tpavVF",
        "outputId": "f59b99c5-f3a9-4e3e-999c-a16c88833df6"
      },
      "execution_count": null,
      "outputs": [
        {
          "output_type": "stream",
          "name": "stdout",
          "text": [
            "(8708, 9)\n",
            "(8708, 1)\n"
          ]
        }
      ]
    },
    {
      "cell_type": "code",
      "source": [
        "df['total_bookings']=df1"
      ],
      "metadata": {
        "id": "VgWNAoM4a6ig"
      },
      "execution_count": null,
      "outputs": []
    },
    {
      "cell_type": "code",
      "source": [
        "df.head()"
      ],
      "metadata": {
        "colab": {
          "base_uri": "https://localhost:8080/",
          "height": 206
        },
        "id": "pDSKT2O5bBKZ",
        "outputId": "0ab04d23-b528-485e-96f5-27b2013fb74e"
      },
      "execution_count": null,
      "outputs": [
        {
          "output_type": "execute_result",
          "data": {
            "text/html": [
              "\n",
              "  <div id=\"df-2816750c-f0e2-43aa-86d1-e8875b3844e5\">\n",
              "    <div class=\"colab-df-container\">\n",
              "      <div>\n",
              "<style scoped>\n",
              "    .dataframe tbody tr th:only-of-type {\n",
              "        vertical-align: middle;\n",
              "    }\n",
              "\n",
              "    .dataframe tbody tr th {\n",
              "        vertical-align: top;\n",
              "    }\n",
              "\n",
              "    .dataframe thead th {\n",
              "        text-align: right;\n",
              "    }\n",
              "</style>\n",
              "<table border=\"1\" class=\"dataframe\">\n",
              "  <thead>\n",
              "    <tr style=\"text-align: right;\">\n",
              "      <th></th>\n",
              "      <th>datetime</th>\n",
              "      <th>season</th>\n",
              "      <th>holiday</th>\n",
              "      <th>workingday</th>\n",
              "      <th>weather</th>\n",
              "      <th>temp</th>\n",
              "      <th>atemp</th>\n",
              "      <th>humidity</th>\n",
              "      <th>windspeed</th>\n",
              "      <th>total_bookings</th>\n",
              "    </tr>\n",
              "  </thead>\n",
              "  <tbody>\n",
              "    <tr>\n",
              "      <th>0</th>\n",
              "      <td>5/2/2012 19:00</td>\n",
              "      <td>Summer</td>\n",
              "      <td>0</td>\n",
              "      <td>1</td>\n",
              "      <td>Clear + Few clouds</td>\n",
              "      <td>22.14</td>\n",
              "      <td>25.760</td>\n",
              "      <td>77</td>\n",
              "      <td>16.9979</td>\n",
              "      <td>504</td>\n",
              "    </tr>\n",
              "    <tr>\n",
              "      <th>1</th>\n",
              "      <td>9/5/2012 4:00</td>\n",
              "      <td>Fall</td>\n",
              "      <td>0</td>\n",
              "      <td>1</td>\n",
              "      <td>Clear + Few clouds</td>\n",
              "      <td>28.70</td>\n",
              "      <td>33.335</td>\n",
              "      <td>79</td>\n",
              "      <td>19.0012</td>\n",
              "      <td>5</td>\n",
              "    </tr>\n",
              "    <tr>\n",
              "      <th>2</th>\n",
              "      <td>1/13/2011 9:00</td>\n",
              "      <td>Spring</td>\n",
              "      <td>0</td>\n",
              "      <td>1</td>\n",
              "      <td>Clear + Few clouds</td>\n",
              "      <td>5.74</td>\n",
              "      <td>6.060</td>\n",
              "      <td>50</td>\n",
              "      <td>22.0028</td>\n",
              "      <td>139</td>\n",
              "    </tr>\n",
              "    <tr>\n",
              "      <th>3</th>\n",
              "      <td>11/18/2011 16:00</td>\n",
              "      <td>Winter</td>\n",
              "      <td>0</td>\n",
              "      <td>1</td>\n",
              "      <td>Clear + Few clouds</td>\n",
              "      <td>13.94</td>\n",
              "      <td>16.665</td>\n",
              "      <td>29</td>\n",
              "      <td>8.9981</td>\n",
              "      <td>209</td>\n",
              "    </tr>\n",
              "    <tr>\n",
              "      <th>4</th>\n",
              "      <td>9/13/2011 13:00</td>\n",
              "      <td>Fall</td>\n",
              "      <td>0</td>\n",
              "      <td>1</td>\n",
              "      <td>Clear + Few clouds</td>\n",
              "      <td>30.34</td>\n",
              "      <td>33.335</td>\n",
              "      <td>51</td>\n",
              "      <td>19.0012</td>\n",
              "      <td>184</td>\n",
              "    </tr>\n",
              "  </tbody>\n",
              "</table>\n",
              "</div>\n",
              "      <button class=\"colab-df-convert\" onclick=\"convertToInteractive('df-2816750c-f0e2-43aa-86d1-e8875b3844e5')\"\n",
              "              title=\"Convert this dataframe to an interactive table.\"\n",
              "              style=\"display:none;\">\n",
              "        \n",
              "  <svg xmlns=\"http://www.w3.org/2000/svg\" height=\"24px\"viewBox=\"0 0 24 24\"\n",
              "       width=\"24px\">\n",
              "    <path d=\"M0 0h24v24H0V0z\" fill=\"none\"/>\n",
              "    <path d=\"M18.56 5.44l.94 2.06.94-2.06 2.06-.94-2.06-.94-.94-2.06-.94 2.06-2.06.94zm-11 1L8.5 8.5l.94-2.06 2.06-.94-2.06-.94L8.5 2.5l-.94 2.06-2.06.94zm10 10l.94 2.06.94-2.06 2.06-.94-2.06-.94-.94-2.06-.94 2.06-2.06.94z\"/><path d=\"M17.41 7.96l-1.37-1.37c-.4-.4-.92-.59-1.43-.59-.52 0-1.04.2-1.43.59L10.3 9.45l-7.72 7.72c-.78.78-.78 2.05 0 2.83L4 21.41c.39.39.9.59 1.41.59.51 0 1.02-.2 1.41-.59l7.78-7.78 2.81-2.81c.8-.78.8-2.07 0-2.86zM5.41 20L4 18.59l7.72-7.72 1.47 1.35L5.41 20z\"/>\n",
              "  </svg>\n",
              "      </button>\n",
              "      \n",
              "  <style>\n",
              "    .colab-df-container {\n",
              "      display:flex;\n",
              "      flex-wrap:wrap;\n",
              "      gap: 12px;\n",
              "    }\n",
              "\n",
              "    .colab-df-convert {\n",
              "      background-color: #E8F0FE;\n",
              "      border: none;\n",
              "      border-radius: 50%;\n",
              "      cursor: pointer;\n",
              "      display: none;\n",
              "      fill: #1967D2;\n",
              "      height: 32px;\n",
              "      padding: 0 0 0 0;\n",
              "      width: 32px;\n",
              "    }\n",
              "\n",
              "    .colab-df-convert:hover {\n",
              "      background-color: #E2EBFA;\n",
              "      box-shadow: 0px 1px 2px rgba(60, 64, 67, 0.3), 0px 1px 3px 1px rgba(60, 64, 67, 0.15);\n",
              "      fill: #174EA6;\n",
              "    }\n",
              "\n",
              "    [theme=dark] .colab-df-convert {\n",
              "      background-color: #3B4455;\n",
              "      fill: #D2E3FC;\n",
              "    }\n",
              "\n",
              "    [theme=dark] .colab-df-convert:hover {\n",
              "      background-color: #434B5C;\n",
              "      box-shadow: 0px 1px 3px 1px rgba(0, 0, 0, 0.15);\n",
              "      filter: drop-shadow(0px 1px 2px rgba(0, 0, 0, 0.3));\n",
              "      fill: #FFFFFF;\n",
              "    }\n",
              "  </style>\n",
              "\n",
              "      <script>\n",
              "        const buttonEl =\n",
              "          document.querySelector('#df-2816750c-f0e2-43aa-86d1-e8875b3844e5 button.colab-df-convert');\n",
              "        buttonEl.style.display =\n",
              "          google.colab.kernel.accessAllowed ? 'block' : 'none';\n",
              "\n",
              "        async function convertToInteractive(key) {\n",
              "          const element = document.querySelector('#df-2816750c-f0e2-43aa-86d1-e8875b3844e5');\n",
              "          const dataTable =\n",
              "            await google.colab.kernel.invokeFunction('convertToInteractive',\n",
              "                                                     [key], {});\n",
              "          if (!dataTable) return;\n",
              "\n",
              "          const docLinkHtml = 'Like what you see? Visit the ' +\n",
              "            '<a target=\"_blank\" href=https://colab.research.google.com/notebooks/data_table.ipynb>data table notebook</a>'\n",
              "            + ' to learn more about interactive tables.';\n",
              "          element.innerHTML = '';\n",
              "          dataTable['output_type'] = 'display_data';\n",
              "          await google.colab.output.renderOutput(dataTable, element);\n",
              "          const docLink = document.createElement('div');\n",
              "          docLink.innerHTML = docLinkHtml;\n",
              "          element.appendChild(docLink);\n",
              "        }\n",
              "      </script>\n",
              "    </div>\n",
              "  </div>\n",
              "  "
            ],
            "text/plain": [
              "           datetime  season  holiday  ...  humidity windspeed  total_bookings\n",
              "0    5/2/2012 19:00  Summer        0  ...        77   16.9979             504\n",
              "1     9/5/2012 4:00    Fall        0  ...        79   19.0012               5\n",
              "2    1/13/2011 9:00  Spring        0  ...        50   22.0028             139\n",
              "3  11/18/2011 16:00  Winter        0  ...        29    8.9981             209\n",
              "4   9/13/2011 13:00    Fall        0  ...        51   19.0012             184\n",
              "\n",
              "[5 rows x 10 columns]"
            ]
          },
          "metadata": {},
          "execution_count": 7
        }
      ]
    },
    {
      "cell_type": "markdown",
      "source": [
        "### Checking the type of data"
      ],
      "metadata": {
        "id": "Aq22Jd0yboWB"
      }
    },
    {
      "cell_type": "code",
      "source": [
        "df.info()"
      ],
      "metadata": {
        "colab": {
          "base_uri": "https://localhost:8080/"
        },
        "id": "geSj7hMrbFHT",
        "outputId": "10de6f0e-727e-4093-ea27-93b3b89f0203"
      },
      "execution_count": null,
      "outputs": [
        {
          "output_type": "stream",
          "name": "stdout",
          "text": [
            "<class 'pandas.core.frame.DataFrame'>\n",
            "RangeIndex: 8708 entries, 0 to 8707\n",
            "Data columns (total 10 columns):\n",
            " #   Column          Non-Null Count  Dtype  \n",
            "---  ------          --------------  -----  \n",
            " 0   datetime        8708 non-null   object \n",
            " 1   season          8708 non-null   object \n",
            " 2   holiday         8708 non-null   int64  \n",
            " 3   workingday      8708 non-null   int64  \n",
            " 4   weather         8708 non-null   object \n",
            " 5   temp            8708 non-null   float64\n",
            " 6   atemp           8708 non-null   float64\n",
            " 7   humidity        8708 non-null   int64  \n",
            " 8   windspeed       8708 non-null   float64\n",
            " 9   total_bookings  8708 non-null   int64  \n",
            "dtypes: float64(3), int64(4), object(3)\n",
            "memory usage: 680.4+ KB\n"
          ]
        }
      ]
    },
    {
      "cell_type": "markdown",
      "source": [
        "Continous data is in float and categorical is in object!"
      ],
      "metadata": {
        "id": "ETGcQT2CbtJY"
      }
    },
    {
      "cell_type": "markdown",
      "source": [
        "###Checking empty and duplicate values"
      ],
      "metadata": {
        "id": "sL2QRYMlesRH"
      }
    },
    {
      "cell_type": "code",
      "source": [
        "df.isna().any()"
      ],
      "metadata": {
        "colab": {
          "base_uri": "https://localhost:8080/"
        },
        "id": "QOVOmVhjb-Du",
        "outputId": "1a032fe9-a640-4897-dc0f-70714ead3a46"
      },
      "execution_count": null,
      "outputs": [
        {
          "output_type": "execute_result",
          "data": {
            "text/plain": [
              "datetime          False\n",
              "season            False\n",
              "holiday           False\n",
              "workingday        False\n",
              "weather           False\n",
              "temp              False\n",
              "atemp             False\n",
              "humidity          False\n",
              "windspeed         False\n",
              "total_bookings    False\n",
              "dtype: bool"
            ]
          },
          "metadata": {},
          "execution_count": 47
        }
      ]
    },
    {
      "cell_type": "code",
      "source": [
        "df.duplicated().any()"
      ],
      "metadata": {
        "colab": {
          "base_uri": "https://localhost:8080/"
        },
        "id": "xTHuTO43e5Iy",
        "outputId": "29816521-91ce-4cb5-c188-32cbe3fa0572"
      },
      "execution_count": null,
      "outputs": [
        {
          "output_type": "execute_result",
          "data": {
            "text/plain": [
              "False"
            ]
          },
          "metadata": {},
          "execution_count": 48
        }
      ]
    },
    {
      "cell_type": "markdown",
      "source": [
        "## Extracting datetime features"
      ],
      "metadata": {
        "id": "gQaSB0hKjvJA"
      }
    },
    {
      "cell_type": "code",
      "source": [
        "df['datetime']=pd.to_datetime(df['datetime'])"
      ],
      "metadata": {
        "id": "uFUje-g7fHZ3"
      },
      "execution_count": null,
      "outputs": []
    },
    {
      "cell_type": "code",
      "source": [
        "df[\"weekday\"]= df['datetime'].dt.day_name()\n",
        "df[\"dates\"] =df['datetime'].dt.date\n",
        "df[\"hour\"]= df['datetime'].dt.hour\n",
        "df[\"month\"]=df['datetime'].dt.month_name()"
      ],
      "metadata": {
        "id": "nouodOFtfk-L"
      },
      "execution_count": null,
      "outputs": []
    },
    {
      "cell_type": "code",
      "source": [
        "df.head(1)"
      ],
      "metadata": {
        "colab": {
          "base_uri": "https://localhost:8080/",
          "height": 179
        },
        "id": "w3ulIK6Ohl1D",
        "outputId": "e5aad386-3889-4d33-cf3a-c710f02d1205"
      },
      "execution_count": null,
      "outputs": [
        {
          "output_type": "execute_result",
          "data": {
            "text/html": [
              "\n",
              "  <div id=\"df-ca36a320-bc0a-4250-8f5e-09c9b71cde22\">\n",
              "    <div class=\"colab-df-container\">\n",
              "      <div>\n",
              "<style scoped>\n",
              "    .dataframe tbody tr th:only-of-type {\n",
              "        vertical-align: middle;\n",
              "    }\n",
              "\n",
              "    .dataframe tbody tr th {\n",
              "        vertical-align: top;\n",
              "    }\n",
              "\n",
              "    .dataframe thead th {\n",
              "        text-align: right;\n",
              "    }\n",
              "</style>\n",
              "<table border=\"1\" class=\"dataframe\">\n",
              "  <thead>\n",
              "    <tr style=\"text-align: right;\">\n",
              "      <th></th>\n",
              "      <th>datetime</th>\n",
              "      <th>season</th>\n",
              "      <th>holiday</th>\n",
              "      <th>workingday</th>\n",
              "      <th>weather</th>\n",
              "      <th>temp</th>\n",
              "      <th>atemp</th>\n",
              "      <th>humidity</th>\n",
              "      <th>windspeed</th>\n",
              "      <th>total_bookings</th>\n",
              "      <th>weekday</th>\n",
              "      <th>dates</th>\n",
              "      <th>hour</th>\n",
              "      <th>month</th>\n",
              "    </tr>\n",
              "  </thead>\n",
              "  <tbody>\n",
              "    <tr>\n",
              "      <th>0</th>\n",
              "      <td>2012-05-02 19:00:00</td>\n",
              "      <td>Summer</td>\n",
              "      <td>0</td>\n",
              "      <td>1</td>\n",
              "      <td>Clear + Few clouds</td>\n",
              "      <td>22.14</td>\n",
              "      <td>25.76</td>\n",
              "      <td>77</td>\n",
              "      <td>16.9979</td>\n",
              "      <td>504</td>\n",
              "      <td>Wednesday</td>\n",
              "      <td>2012-05-02</td>\n",
              "      <td>19</td>\n",
              "      <td>May</td>\n",
              "    </tr>\n",
              "  </tbody>\n",
              "</table>\n",
              "</div>\n",
              "      <button class=\"colab-df-convert\" onclick=\"convertToInteractive('df-ca36a320-bc0a-4250-8f5e-09c9b71cde22')\"\n",
              "              title=\"Convert this dataframe to an interactive table.\"\n",
              "              style=\"display:none;\">\n",
              "        \n",
              "  <svg xmlns=\"http://www.w3.org/2000/svg\" height=\"24px\"viewBox=\"0 0 24 24\"\n",
              "       width=\"24px\">\n",
              "    <path d=\"M0 0h24v24H0V0z\" fill=\"none\"/>\n",
              "    <path d=\"M18.56 5.44l.94 2.06.94-2.06 2.06-.94-2.06-.94-.94-2.06-.94 2.06-2.06.94zm-11 1L8.5 8.5l.94-2.06 2.06-.94-2.06-.94L8.5 2.5l-.94 2.06-2.06.94zm10 10l.94 2.06.94-2.06 2.06-.94-2.06-.94-.94-2.06-.94 2.06-2.06.94z\"/><path d=\"M17.41 7.96l-1.37-1.37c-.4-.4-.92-.59-1.43-.59-.52 0-1.04.2-1.43.59L10.3 9.45l-7.72 7.72c-.78.78-.78 2.05 0 2.83L4 21.41c.39.39.9.59 1.41.59.51 0 1.02-.2 1.41-.59l7.78-7.78 2.81-2.81c.8-.78.8-2.07 0-2.86zM5.41 20L4 18.59l7.72-7.72 1.47 1.35L5.41 20z\"/>\n",
              "  </svg>\n",
              "      </button>\n",
              "      \n",
              "  <style>\n",
              "    .colab-df-container {\n",
              "      display:flex;\n",
              "      flex-wrap:wrap;\n",
              "      gap: 12px;\n",
              "    }\n",
              "\n",
              "    .colab-df-convert {\n",
              "      background-color: #E8F0FE;\n",
              "      border: none;\n",
              "      border-radius: 50%;\n",
              "      cursor: pointer;\n",
              "      display: none;\n",
              "      fill: #1967D2;\n",
              "      height: 32px;\n",
              "      padding: 0 0 0 0;\n",
              "      width: 32px;\n",
              "    }\n",
              "\n",
              "    .colab-df-convert:hover {\n",
              "      background-color: #E2EBFA;\n",
              "      box-shadow: 0px 1px 2px rgba(60, 64, 67, 0.3), 0px 1px 3px 1px rgba(60, 64, 67, 0.15);\n",
              "      fill: #174EA6;\n",
              "    }\n",
              "\n",
              "    [theme=dark] .colab-df-convert {\n",
              "      background-color: #3B4455;\n",
              "      fill: #D2E3FC;\n",
              "    }\n",
              "\n",
              "    [theme=dark] .colab-df-convert:hover {\n",
              "      background-color: #434B5C;\n",
              "      box-shadow: 0px 1px 3px 1px rgba(0, 0, 0, 0.15);\n",
              "      filter: drop-shadow(0px 1px 2px rgba(0, 0, 0, 0.3));\n",
              "      fill: #FFFFFF;\n",
              "    }\n",
              "  </style>\n",
              "\n",
              "      <script>\n",
              "        const buttonEl =\n",
              "          document.querySelector('#df-ca36a320-bc0a-4250-8f5e-09c9b71cde22 button.colab-df-convert');\n",
              "        buttonEl.style.display =\n",
              "          google.colab.kernel.accessAllowed ? 'block' : 'none';\n",
              "\n",
              "        async function convertToInteractive(key) {\n",
              "          const element = document.querySelector('#df-ca36a320-bc0a-4250-8f5e-09c9b71cde22');\n",
              "          const dataTable =\n",
              "            await google.colab.kernel.invokeFunction('convertToInteractive',\n",
              "                                                     [key], {});\n",
              "          if (!dataTable) return;\n",
              "\n",
              "          const docLinkHtml = 'Like what you see? Visit the ' +\n",
              "            '<a target=\"_blank\" href=https://colab.research.google.com/notebooks/data_table.ipynb>data table notebook</a>'\n",
              "            + ' to learn more about interactive tables.';\n",
              "          element.innerHTML = '';\n",
              "          dataTable['output_type'] = 'display_data';\n",
              "          await google.colab.output.renderOutput(dataTable, element);\n",
              "          const docLink = document.createElement('div');\n",
              "          docLink.innerHTML = docLinkHtml;\n",
              "          element.appendChild(docLink);\n",
              "        }\n",
              "      </script>\n",
              "    </div>\n",
              "  </div>\n",
              "  "
            ],
            "text/plain": [
              "             datetime  season  holiday  ...       dates hour  month\n",
              "0 2012-05-02 19:00:00  Summer        0  ...  2012-05-02   19    May\n",
              "\n",
              "[1 rows x 14 columns]"
            ]
          },
          "metadata": {},
          "execution_count": 51
        }
      ]
    },
    {
      "cell_type": "code",
      "source": [
        "df=df[['datetime', 'dates','hour','weekday', 'month', 'season', 'holiday', 'workingday', 'weather', 'temp', 'atemp', 'humidity',\t'windspeed','total_bookings']]"
      ],
      "metadata": {
        "id": "E-5ZigCfiyfl"
      },
      "execution_count": null,
      "outputs": []
    },
    {
      "cell_type": "code",
      "source": [
        "df.head(2)"
      ],
      "metadata": {
        "colab": {
          "base_uri": "https://localhost:8080/",
          "height": 246
        },
        "id": "xL2e3qcmjQft",
        "outputId": "cae74b58-d1c3-4ec7-8503-f2e1df627428"
      },
      "execution_count": null,
      "outputs": [
        {
          "output_type": "execute_result",
          "data": {
            "text/html": [
              "\n",
              "  <div id=\"df-8a263038-b501-483a-890e-3b55cda86d19\">\n",
              "    <div class=\"colab-df-container\">\n",
              "      <div>\n",
              "<style scoped>\n",
              "    .dataframe tbody tr th:only-of-type {\n",
              "        vertical-align: middle;\n",
              "    }\n",
              "\n",
              "    .dataframe tbody tr th {\n",
              "        vertical-align: top;\n",
              "    }\n",
              "\n",
              "    .dataframe thead th {\n",
              "        text-align: right;\n",
              "    }\n",
              "</style>\n",
              "<table border=\"1\" class=\"dataframe\">\n",
              "  <thead>\n",
              "    <tr style=\"text-align: right;\">\n",
              "      <th></th>\n",
              "      <th>datetime</th>\n",
              "      <th>dates</th>\n",
              "      <th>hour</th>\n",
              "      <th>weekday</th>\n",
              "      <th>month</th>\n",
              "      <th>season</th>\n",
              "      <th>holiday</th>\n",
              "      <th>workingday</th>\n",
              "      <th>weather</th>\n",
              "      <th>temp</th>\n",
              "      <th>atemp</th>\n",
              "      <th>humidity</th>\n",
              "      <th>windspeed</th>\n",
              "      <th>total_bookings</th>\n",
              "    </tr>\n",
              "  </thead>\n",
              "  <tbody>\n",
              "    <tr>\n",
              "      <th>0</th>\n",
              "      <td>2012-05-02 19:00:00</td>\n",
              "      <td>2012-05-02</td>\n",
              "      <td>19</td>\n",
              "      <td>Wednesday</td>\n",
              "      <td>May</td>\n",
              "      <td>Summer</td>\n",
              "      <td>0</td>\n",
              "      <td>1</td>\n",
              "      <td>Clear + Few clouds</td>\n",
              "      <td>22.14</td>\n",
              "      <td>25.760</td>\n",
              "      <td>77</td>\n",
              "      <td>16.9979</td>\n",
              "      <td>504</td>\n",
              "    </tr>\n",
              "    <tr>\n",
              "      <th>1</th>\n",
              "      <td>2012-09-05 04:00:00</td>\n",
              "      <td>2012-09-05</td>\n",
              "      <td>4</td>\n",
              "      <td>Wednesday</td>\n",
              "      <td>September</td>\n",
              "      <td>Fall</td>\n",
              "      <td>0</td>\n",
              "      <td>1</td>\n",
              "      <td>Clear + Few clouds</td>\n",
              "      <td>28.70</td>\n",
              "      <td>33.335</td>\n",
              "      <td>79</td>\n",
              "      <td>19.0012</td>\n",
              "      <td>5</td>\n",
              "    </tr>\n",
              "  </tbody>\n",
              "</table>\n",
              "</div>\n",
              "      <button class=\"colab-df-convert\" onclick=\"convertToInteractive('df-8a263038-b501-483a-890e-3b55cda86d19')\"\n",
              "              title=\"Convert this dataframe to an interactive table.\"\n",
              "              style=\"display:none;\">\n",
              "        \n",
              "  <svg xmlns=\"http://www.w3.org/2000/svg\" height=\"24px\"viewBox=\"0 0 24 24\"\n",
              "       width=\"24px\">\n",
              "    <path d=\"M0 0h24v24H0V0z\" fill=\"none\"/>\n",
              "    <path d=\"M18.56 5.44l.94 2.06.94-2.06 2.06-.94-2.06-.94-.94-2.06-.94 2.06-2.06.94zm-11 1L8.5 8.5l.94-2.06 2.06-.94-2.06-.94L8.5 2.5l-.94 2.06-2.06.94zm10 10l.94 2.06.94-2.06 2.06-.94-2.06-.94-.94-2.06-.94 2.06-2.06.94z\"/><path d=\"M17.41 7.96l-1.37-1.37c-.4-.4-.92-.59-1.43-.59-.52 0-1.04.2-1.43.59L10.3 9.45l-7.72 7.72c-.78.78-.78 2.05 0 2.83L4 21.41c.39.39.9.59 1.41.59.51 0 1.02-.2 1.41-.59l7.78-7.78 2.81-2.81c.8-.78.8-2.07 0-2.86zM5.41 20L4 18.59l7.72-7.72 1.47 1.35L5.41 20z\"/>\n",
              "  </svg>\n",
              "      </button>\n",
              "      \n",
              "  <style>\n",
              "    .colab-df-container {\n",
              "      display:flex;\n",
              "      flex-wrap:wrap;\n",
              "      gap: 12px;\n",
              "    }\n",
              "\n",
              "    .colab-df-convert {\n",
              "      background-color: #E8F0FE;\n",
              "      border: none;\n",
              "      border-radius: 50%;\n",
              "      cursor: pointer;\n",
              "      display: none;\n",
              "      fill: #1967D2;\n",
              "      height: 32px;\n",
              "      padding: 0 0 0 0;\n",
              "      width: 32px;\n",
              "    }\n",
              "\n",
              "    .colab-df-convert:hover {\n",
              "      background-color: #E2EBFA;\n",
              "      box-shadow: 0px 1px 2px rgba(60, 64, 67, 0.3), 0px 1px 3px 1px rgba(60, 64, 67, 0.15);\n",
              "      fill: #174EA6;\n",
              "    }\n",
              "\n",
              "    [theme=dark] .colab-df-convert {\n",
              "      background-color: #3B4455;\n",
              "      fill: #D2E3FC;\n",
              "    }\n",
              "\n",
              "    [theme=dark] .colab-df-convert:hover {\n",
              "      background-color: #434B5C;\n",
              "      box-shadow: 0px 1px 3px 1px rgba(0, 0, 0, 0.15);\n",
              "      filter: drop-shadow(0px 1px 2px rgba(0, 0, 0, 0.3));\n",
              "      fill: #FFFFFF;\n",
              "    }\n",
              "  </style>\n",
              "\n",
              "      <script>\n",
              "        const buttonEl =\n",
              "          document.querySelector('#df-8a263038-b501-483a-890e-3b55cda86d19 button.colab-df-convert');\n",
              "        buttonEl.style.display =\n",
              "          google.colab.kernel.accessAllowed ? 'block' : 'none';\n",
              "\n",
              "        async function convertToInteractive(key) {\n",
              "          const element = document.querySelector('#df-8a263038-b501-483a-890e-3b55cda86d19');\n",
              "          const dataTable =\n",
              "            await google.colab.kernel.invokeFunction('convertToInteractive',\n",
              "                                                     [key], {});\n",
              "          if (!dataTable) return;\n",
              "\n",
              "          const docLinkHtml = 'Like what you see? Visit the ' +\n",
              "            '<a target=\"_blank\" href=https://colab.research.google.com/notebooks/data_table.ipynb>data table notebook</a>'\n",
              "            + ' to learn more about interactive tables.';\n",
              "          element.innerHTML = '';\n",
              "          dataTable['output_type'] = 'display_data';\n",
              "          await google.colab.output.renderOutput(dataTable, element);\n",
              "          const docLink = document.createElement('div');\n",
              "          docLink.innerHTML = docLinkHtml;\n",
              "          element.appendChild(docLink);\n",
              "        }\n",
              "      </script>\n",
              "    </div>\n",
              "  </div>\n",
              "  "
            ],
            "text/plain": [
              "             datetime       dates  hour  ... humidity windspeed total_bookings\n",
              "0 2012-05-02 19:00:00  2012-05-02    19  ...       77   16.9979            504\n",
              "1 2012-09-05 04:00:00  2012-09-05     4  ...       79   19.0012              5\n",
              "\n",
              "[2 rows x 14 columns]"
            ]
          },
          "metadata": {},
          "execution_count": 53
        }
      ]
    },
    {
      "cell_type": "markdown",
      "source": [
        "##Outliers and omitting them!"
      ],
      "metadata": {
        "id": "i1ovawbFTcB4"
      }
    },
    {
      "cell_type": "code",
      "source": [
        "df.boxplot()\n",
        "plt.show()"
      ],
      "metadata": {
        "colab": {
          "base_uri": "https://localhost:8080/",
          "height": 266
        },
        "id": "KSXM7J2OPaEw",
        "outputId": "ab5f38a0-d38a-4cdc-8dce-15032b303865"
      },
      "execution_count": null,
      "outputs": [
        {
          "output_type": "display_data",
          "data": {
            "image/png": "[encoded data removed]",
            "text/plain": [
              "<Figure size 432x288 with 1 Axes>"
            ]
          },
          "metadata": {
            "needs_background": "light"
          }
        }
      ]
    },
    {
      "cell_type": "code",
      "source": [
        "Q1=df['total_bookings'].quantile(0.25)\n",
        "Q3=df['total_bookings'].quantile(0.75)\n",
        "IQR=Q3-Q1"
      ],
      "metadata": {
        "id": "TiP2hz6tTsG2"
      },
      "execution_count": null,
      "outputs": []
    },
    {
      "cell_type": "code",
      "source": [
        "outliers=df[(df['total_bookings']>(Q3+1.5*IQR)) | (df['total_bookings']<(Q1-1.5*IQR))]"
      ],
      "metadata": {
        "id": "WYLrT0ZvTz8J"
      },
      "execution_count": null,
      "outputs": []
    },
    {
      "cell_type": "code",
      "source": [
        "df.drop(list(outliers.index), axis=0, inplace=True)"
      ],
      "metadata": {
        "id": "n6Ev2kA3T-lI"
      },
      "execution_count": null,
      "outputs": []
    },
    {
      "cell_type": "code",
      "source": [
        "df.boxplot(['windspeed','total_bookings'])\n",
        "plt.show()"
      ],
      "metadata": {
        "colab": {
          "base_uri": "https://localhost:8080/",
          "height": 266
        },
        "id": "4uX-kp5aUDO4",
        "outputId": "dd3e4cdc-5057-470e-b374-3852ab8132e4"
      },
      "execution_count": null,
      "outputs": [
        {
          "output_type": "display_data",
          "data": {
            "image/png": "[encoded data removed]",
            "text/plain": [
              "<Figure size 432x288 with 1 Axes>"
            ]
          },
          "metadata": {
            "needs_background": "light"
          }
        }
      ]
    },
    {
      "cell_type": "markdown",
      "source": [
        "##Correlation Analysis!"
      ],
      "metadata": {
        "id": "lYKxzdPkWYEN"
      }
    },
    {
      "cell_type": "code",
      "source": [
        "corr=df.corr()"
      ],
      "metadata": {
        "id": "zgZbZo1CUOYU"
      },
      "execution_count": null,
      "outputs": []
    },
    {
      "cell_type": "code",
      "source": [
        "corr"
      ],
      "metadata": {
        "colab": {
          "base_uri": "https://localhost:8080/",
          "height": 300
        },
        "id": "buj6Qvf7UvYM",
        "outputId": "82196bda-1289-48ca-e82a-e87cf5679cc9"
      },
      "execution_count": null,
      "outputs": [
        {
          "output_type": "execute_result",
          "data": {
            "text/html": [
              "\n",
              "  <div id=\"df-85246f2a-19cb-42c9-9602-c5a3a1b84377\">\n",
              "    <div class=\"colab-df-container\">\n",
              "      <div>\n",
              "<style scoped>\n",
              "    .dataframe tbody tr th:only-of-type {\n",
              "        vertical-align: middle;\n",
              "    }\n",
              "\n",
              "    .dataframe tbody tr th {\n",
              "        vertical-align: top;\n",
              "    }\n",
              "\n",
              "    .dataframe thead th {\n",
              "        text-align: right;\n",
              "    }\n",
              "</style>\n",
              "<table border=\"1\" class=\"dataframe\">\n",
              "  <thead>\n",
              "    <tr style=\"text-align: right;\">\n",
              "      <th></th>\n",
              "      <th>hour</th>\n",
              "      <th>holiday</th>\n",
              "      <th>workingday</th>\n",
              "      <th>temp</th>\n",
              "      <th>atemp</th>\n",
              "      <th>humidity</th>\n",
              "      <th>windspeed</th>\n",
              "      <th>total_bookings</th>\n",
              "    </tr>\n",
              "  </thead>\n",
              "  <tbody>\n",
              "    <tr>\n",
              "      <th>hour</th>\n",
              "      <td>1.000000</td>\n",
              "      <td>0.005392</td>\n",
              "      <td>-0.003357</td>\n",
              "      <td>0.134702</td>\n",
              "      <td>0.130159</td>\n",
              "      <td>-0.266331</td>\n",
              "      <td>0.131759</td>\n",
              "      <td>0.425427</td>\n",
              "    </tr>\n",
              "    <tr>\n",
              "      <th>holiday</th>\n",
              "      <td>0.005392</td>\n",
              "      <td>1.000000</td>\n",
              "      <td>-0.250402</td>\n",
              "      <td>0.002621</td>\n",
              "      <td>-0.002768</td>\n",
              "      <td>-0.006133</td>\n",
              "      <td>0.007395</td>\n",
              "      <td>0.010235</td>\n",
              "    </tr>\n",
              "    <tr>\n",
              "      <th>workingday</th>\n",
              "      <td>-0.003357</td>\n",
              "      <td>-0.250402</td>\n",
              "      <td>1.000000</td>\n",
              "      <td>0.026092</td>\n",
              "      <td>0.020552</td>\n",
              "      <td>-0.011184</td>\n",
              "      <td>0.015937</td>\n",
              "      <td>-0.023420</td>\n",
              "    </tr>\n",
              "    <tr>\n",
              "      <th>temp</th>\n",
              "      <td>0.134702</td>\n",
              "      <td>0.002621</td>\n",
              "      <td>0.026092</td>\n",
              "      <td>1.000000</td>\n",
              "      <td>0.985214</td>\n",
              "      <td>-0.052052</td>\n",
              "      <td>-0.031265</td>\n",
              "      <td>0.389198</td>\n",
              "    </tr>\n",
              "    <tr>\n",
              "      <th>atemp</th>\n",
              "      <td>0.130159</td>\n",
              "      <td>-0.002768</td>\n",
              "      <td>0.020552</td>\n",
              "      <td>0.985214</td>\n",
              "      <td>1.000000</td>\n",
              "      <td>-0.030614</td>\n",
              "      <td>-0.073184</td>\n",
              "      <td>0.386209</td>\n",
              "    </tr>\n",
              "    <tr>\n",
              "      <th>humidity</th>\n",
              "      <td>-0.266331</td>\n",
              "      <td>-0.006133</td>\n",
              "      <td>-0.011184</td>\n",
              "      <td>-0.052052</td>\n",
              "      <td>-0.030614</td>\n",
              "      <td>1.000000</td>\n",
              "      <td>-0.322381</td>\n",
              "      <td>-0.312485</td>\n",
              "    </tr>\n",
              "    <tr>\n",
              "      <th>windspeed</th>\n",
              "      <td>0.131759</td>\n",
              "      <td>0.007395</td>\n",
              "      <td>0.015937</td>\n",
              "      <td>-0.031265</td>\n",
              "      <td>-0.073184</td>\n",
              "      <td>-0.322381</td>\n",
              "      <td>1.000000</td>\n",
              "      <td>0.102777</td>\n",
              "    </tr>\n",
              "    <tr>\n",
              "      <th>total_bookings</th>\n",
              "      <td>0.425427</td>\n",
              "      <td>0.010235</td>\n",
              "      <td>-0.023420</td>\n",
              "      <td>0.389198</td>\n",
              "      <td>0.386209</td>\n",
              "      <td>-0.312485</td>\n",
              "      <td>0.102777</td>\n",
              "      <td>1.000000</td>\n",
              "    </tr>\n",
              "  </tbody>\n",
              "</table>\n",
              "</div>\n",
              "      <button class=\"colab-df-convert\" onclick=\"convertToInteractive('df-85246f2a-19cb-42c9-9602-c5a3a1b84377')\"\n",
              "              title=\"Convert this dataframe to an interactive table.\"\n",
              "              style=\"display:none;\">\n",
              "        \n",
              "  <svg xmlns=\"http://www.w3.org/2000/svg\" height=\"24px\"viewBox=\"0 0 24 24\"\n",
              "       width=\"24px\">\n",
              "    <path d=\"M0 0h24v24H0V0z\" fill=\"none\"/>\n",
              "    <path d=\"M18.56 5.44l.94 2.06.94-2.06 2.06-.94-2.06-.94-.94-2.06-.94 2.06-2.06.94zm-11 1L8.5 8.5l.94-2.06 2.06-.94-2.06-.94L8.5 2.5l-.94 2.06-2.06.94zm10 10l.94 2.06.94-2.06 2.06-.94-2.06-.94-.94-2.06-.94 2.06-2.06.94z\"/><path d=\"M17.41 7.96l-1.37-1.37c-.4-.4-.92-.59-1.43-.59-.52 0-1.04.2-1.43.59L10.3 9.45l-7.72 7.72c-.78.78-.78 2.05 0 2.83L4 21.41c.39.39.9.59 1.41.59.51 0 1.02-.2 1.41-.59l7.78-7.78 2.81-2.81c.8-.78.8-2.07 0-2.86zM5.41 20L4 18.59l7.72-7.72 1.47 1.35L5.41 20z\"/>\n",
              "  </svg>\n",
              "      </button>\n",
              "      \n",
              "  <style>\n",
              "    .colab-df-container {\n",
              "      display:flex;\n",
              "      flex-wrap:wrap;\n",
              "      gap: 12px;\n",
              "    }\n",
              "\n",
              "    .colab-df-convert {\n",
              "      background-color: #E8F0FE;\n",
              "      border: none;\n",
              "      border-radius: 50%;\n",
              "      cursor: pointer;\n",
              "      display: none;\n",
              "      fill: #1967D2;\n",
              "      height: 32px;\n",
              "      padding: 0 0 0 0;\n",
              "      width: 32px;\n",
              "    }\n",
              "\n",
              "    .colab-df-convert:hover {\n",
              "      background-color: #E2EBFA;\n",
              "      box-shadow: 0px 1px 2px rgba(60, 64, 67, 0.3), 0px 1px 3px 1px rgba(60, 64, 67, 0.15);\n",
              "      fill: #174EA6;\n",
              "    }\n",
              "\n",
              "    [theme=dark] .colab-df-convert {\n",
              "      background-color: #3B4455;\n",
              "      fill: #D2E3FC;\n",
              "    }\n",
              "\n",
              "    [theme=dark] .colab-df-convert:hover {\n",
              "      background-color: #434B5C;\n",
              "      box-shadow: 0px 1px 3px 1px rgba(0, 0, 0, 0.15);\n",
              "      filter: drop-shadow(0px 1px 2px rgba(0, 0, 0, 0.3));\n",
              "      fill: #FFFFFF;\n",
              "    }\n",
              "  </style>\n",
              "\n",
              "      <script>\n",
              "        const buttonEl =\n",
              "          document.querySelector('#df-85246f2a-19cb-42c9-9602-c5a3a1b84377 button.colab-df-convert');\n",
              "        buttonEl.style.display =\n",
              "          google.colab.kernel.accessAllowed ? 'block' : 'none';\n",
              "\n",
              "        async function convertToInteractive(key) {\n",
              "          const element = document.querySelector('#df-85246f2a-19cb-42c9-9602-c5a3a1b84377');\n",
              "          const dataTable =\n",
              "            await google.colab.kernel.invokeFunction('convertToInteractive',\n",
              "                                                     [key], {});\n",
              "          if (!dataTable) return;\n",
              "\n",
              "          const docLinkHtml = 'Like what you see? Visit the ' +\n",
              "            '<a target=\"_blank\" href=https://colab.research.google.com/notebooks/data_table.ipynb>data table notebook</a>'\n",
              "            + ' to learn more about interactive tables.';\n",
              "          element.innerHTML = '';\n",
              "          dataTable['output_type'] = 'display_data';\n",
              "          await google.colab.output.renderOutput(dataTable, element);\n",
              "          const docLink = document.createElement('div');\n",
              "          docLink.innerHTML = docLinkHtml;\n",
              "          element.appendChild(docLink);\n",
              "        }\n",
              "      </script>\n",
              "    </div>\n",
              "  </div>\n",
              "  "
            ],
            "text/plain": [
              "                    hour   holiday  ...  windspeed  total_bookings\n",
              "hour            1.000000  0.005392  ...   0.131759        0.425427\n",
              "holiday         0.005392  1.000000  ...   0.007395        0.010235\n",
              "workingday     -0.003357 -0.250402  ...   0.015937       -0.023420\n",
              "temp            0.134702  0.002621  ...  -0.031265        0.389198\n",
              "atemp           0.130159 -0.002768  ...  -0.073184        0.386209\n",
              "humidity       -0.266331 -0.006133  ...  -0.322381       -0.312485\n",
              "windspeed       0.131759  0.007395  ...   1.000000        0.102777\n",
              "total_bookings  0.425427  0.010235  ...   0.102777        1.000000\n",
              "\n",
              "[8 rows x 8 columns]"
            ]
          },
          "metadata": {},
          "execution_count": 60
        }
      ]
    },
    {
      "cell_type": "code",
      "source": [
        "sns.heatmap(corr)\n",
        "plt.show()"
      ],
      "metadata": {
        "colab": {
          "base_uri": "https://localhost:8080/",
          "height": 332
        },
        "id": "erkLxlXiUTIr",
        "outputId": "4933b7d0-10fc-4bac-862b-afb70b3397f8"
      },
      "execution_count": null,
      "outputs": [
        {
          "output_type": "display_data",
          "data": {
            "image/png": "[encoded data removed]",
            "text/plain": [
              "<Figure size 432x288 with 2 Axes>"
            ]
          },
          "metadata": {
            "needs_background": "light"
          }
        }
      ]
    },
    {
      "cell_type": "markdown",
      "source": [
        "From above plot and table, it can be observed that \n",
        "1. \"hours\" and number_of_booking is significantly &positively correlated with each other. (0.425)\n",
        "2. Humidity and number of bookings is negatively correlated (-0.266)\n",
        "3. atemp & temp are strongly correlated with each other!   (0.98) (This might be the case of multi-correlation.)\n",
        "4. Other variables are very weakly correlated with bookings & each other!"
      ],
      "metadata": {
        "id": "_enDw4knkUv8"
      }
    },
    {
      "cell_type": "markdown",
      "source": [
        "##Probability plot of total bookings"
      ],
      "metadata": {
        "id": "_-GocveQbBGV"
      }
    },
    {
      "cell_type": "code",
      "source": [
        "sns.distplot(df['total_bookings'], norm_hist=True)\n",
        "plt.ylabel('Probability')\n",
        "plt.show()"
      ],
      "metadata": {
        "colab": {
          "base_uri": "https://localhost:8080/",
          "height": 280
        },
        "id": "bYUnMUv_W2gq",
        "outputId": "1b6a5a1a-32c0-4e70-8d5f-2afedd7a4533"
      },
      "execution_count": null,
      "outputs": [
        {
          "output_type": "display_data",
          "data": {
            "image/png": "[encoded data removed]",
            "text/plain": [
              "<Figure size 432x288 with 1 Axes>"
            ]
          },
          "metadata": {
            "needs_background": "light"
          }
        }
      ]
    },
    {
      "cell_type": "markdown",
      "source": [
        "## Various Scatter Plots"
      ],
      "metadata": {
        "id": "rwl2pDYqbHWX"
      }
    },
    {
      "cell_type": "code",
      "source": [
        "fig, ax=plt.subplots(figsize=(10,10))\n",
        "sns.scatterplot(data=df, x='month', y='total_bookings')\n",
        "plt.title(\"Month v/s Total Bookings\")\n",
        "plt.show()"
      ],
      "metadata": {
        "colab": {
          "base_uri": "https://localhost:8080/",
          "height": 621
        },
        "id": "_b3KD_hAa9FO",
        "outputId": "e6dc4293-7f25-4597-e4d6-a2492288c003"
      },
      "execution_count": null,
      "outputs": [
        {
          "output_type": "display_data",
          "data": {
            "image/png": "[encoded data removed]",
            "text/plain": [
              "<Figure size 720x720 with 1 Axes>"
            ]
          },
          "metadata": {
            "needs_background": "light"
          }
        }
      ]
    },
    {
      "cell_type": "code",
      "source": [
        "\n",
        "sns.scatterplot(data=df, x='season', y='total_bookings')\n",
        "plt.title(\"Season v/s Total Bookings\")\n",
        "plt.show()"
      ],
      "metadata": {
        "colab": {
          "base_uri": "https://localhost:8080/",
          "height": 295
        },
        "id": "RynWhw0deCRI",
        "outputId": "3f0e8804-5918-4d6c-8e18-9b10cbf7bd55"
      },
      "execution_count": null,
      "outputs": [
        {
          "output_type": "display_data",
          "data": {
            "image/png": "[encoded data removed]",
            "text/plain": [
              "<Figure size 432x288 with 1 Axes>"
            ]
          },
          "metadata": {
            "needs_background": "light"
          }
        }
      ]
    },
    {
      "cell_type": "code",
      "source": [
        "fig, ax=plt.subplots(figsize=(10,10))\n",
        "sns.scatterplot(data=df, x='weekday', y='total_bookings')\n",
        "plt.title(\"Weekday v/s Total Bookings\")\n",
        "plt.show()"
      ],
      "metadata": {
        "colab": {
          "base_uri": "https://localhost:8080/",
          "height": 621
        },
        "id": "vezHsMtjHvVu",
        "outputId": "70f78677-5371-46dd-881c-9ac486fea1a0"
      },
      "execution_count": null,
      "outputs": [
        {
          "output_type": "display_data",
          "data": {
            "image/png": "[encoded data removed]",
            "text/plain": [
              "<Figure size 720x720 with 1 Axes>"
            ]
          },
          "metadata": {
            "needs_background": "light"
          }
        }
      ]
    },
    {
      "cell_type": "code",
      "source": [
        "fig, ax=plt.subplots(figsize=(10,10))\n",
        "sns.scatterplot(data=df, x='hour', y='total_bookings')\n",
        "plt.title(\"Hour v/s Total Bookings\")\n",
        "plt.show()"
      ],
      "metadata": {
        "colab": {
          "base_uri": "https://localhost:8080/",
          "height": 621
        },
        "id": "vQeQzrpBIU5H",
        "outputId": "9f09637e-2c8f-4c50-bbef-c785ad2c9ea2"
      },
      "execution_count": null,
      "outputs": [
        {
          "output_type": "display_data",
          "data": {
            "image/png": "[encoded data removed]",
            "text/plain": [
              "<Figure size 720x720 with 1 Axes>"
            ]
          },
          "metadata": {
            "needs_background": "light"
          }
        }
      ]
    },
    {
      "cell_type": "markdown",
      "source": [
        "##Histograms for continous variables"
      ],
      "metadata": {
        "id": "_GpOFsOeIar-"
      }
    },
    {
      "cell_type": "code",
      "source": [
        "sns.distplot(df['temp'], kde=False)\n",
        "plt.title(\"Histogram of Temp\")\n",
        "plt.ylabel('Frequency')\n",
        "plt.show()"
      ],
      "metadata": {
        "colab": {
          "base_uri": "https://localhost:8080/",
          "height": 295
        },
        "id": "ZcC1LGKLJknQ",
        "outputId": "4e27713a-7e1c-4f9f-b96f-934de04595b0"
      },
      "execution_count": null,
      "outputs": [
        {
          "output_type": "display_data",
          "data": {
            "image/png": "[encoded data removed]",
            "text/plain": [
              "<Figure size 432x288 with 1 Axes>"
            ]
          },
          "metadata": {
            "needs_background": "light"
          }
        }
      ]
    },
    {
      "cell_type": "code",
      "source": [
        "sns.distplot(df['atemp'], kde=False)\n",
        "plt.title(\"Histogram of atemp\")\n",
        "plt.ylabel('Frequency')\n",
        "plt.show()"
      ],
      "metadata": {
        "colab": {
          "base_uri": "https://localhost:8080/",
          "height": 295
        },
        "id": "uEzWSG6AKWwX",
        "outputId": "6657c553-628f-4b3a-8a84-c8ce275108b6"
      },
      "execution_count": null,
      "outputs": [
        {
          "output_type": "display_data",
          "data": {
            "image/png": "[encoded data removed]",
            "text/plain": [
              "<Figure size 432x288 with 1 Axes>"
            ]
          },
          "metadata": {
            "needs_background": "light"
          }
        }
      ]
    },
    {
      "cell_type": "code",
      "source": [
        "sns.distplot(df['humidity'], kde=False)\n",
        "plt.title(\"Histogram of humidity\")\n",
        "plt.ylabel('Frequency')\n",
        "plt.show()"
      ],
      "metadata": {
        "colab": {
          "base_uri": "https://localhost:8080/",
          "height": 295
        },
        "id": "3q0X_OF7K2QU",
        "outputId": "90d96045-bd6e-41a1-c69c-36221fc4820a"
      },
      "execution_count": null,
      "outputs": [
        {
          "output_type": "display_data",
          "data": {
            "image/png": "[encoded data removed]",
            "text/plain": [
              "<Figure size 432x288 with 1 Axes>"
            ]
          },
          "metadata": {
            "needs_background": "light"
          }
        }
      ]
    },
    {
      "cell_type": "code",
      "source": [
        "sns.distplot(df['windspeed'], kde=False)\n",
        "plt.title(\"Histogram of windspeed\")\n",
        "plt.ylabel('Frequency')\n",
        "plt.show()"
      ],
      "metadata": {
        "colab": {
          "base_uri": "https://localhost:8080/",
          "height": 295
        },
        "id": "ygxBU8c0Ln7m",
        "outputId": "503f9574-926c-4548-b27d-7c822526d71a"
      },
      "execution_count": null,
      "outputs": [
        {
          "output_type": "display_data",
          "data": {
            "image/png": "[encoded data removed]",
            "text/plain": [
              "<Figure size 432x288 with 1 Axes>"
            ]
          },
          "metadata": {
            "needs_background": "light"
          }
        }
      ]
    },
    {
      "cell_type": "code",
      "source": [
        "sns.distplot(df['hour'], kde=False)\n",
        "plt.title(\"Histogram of Hours\")\n",
        "plt.ylabel('Frequency')\n",
        "plt.show()"
      ],
      "metadata": {
        "colab": {
          "base_uri": "https://localhost:8080/",
          "height": 295
        },
        "id": "8gfgVsYzMHfC",
        "outputId": "743f4ba9-28c9-4e40-d7e5-6012633efea3"
      },
      "execution_count": null,
      "outputs": [
        {
          "output_type": "display_data",
          "data": {
            "image/png": "[encoded data removed]",
            "text/plain": [
              "<Figure size 432x288 with 1 Axes>"
            ]
          },
          "metadata": {
            "needs_background": "light"
          }
        }
      ]
    },
    {
      "cell_type": "code",
      "source": [
        "sns.distplot(df['total_bookings'], kde=False)\n",
        "plt.title(\"Histogram of Total Bookings\")\n",
        "plt.ylabel('Frequency')\n",
        "plt.show()"
      ],
      "metadata": {
        "colab": {
          "base_uri": "https://localhost:8080/",
          "height": 296
        },
        "id": "qj1j-QWVLzQr",
        "outputId": "9d2fa7db-dd1e-405e-adb7-454ddf9a1aa8"
      },
      "execution_count": null,
      "outputs": [
        {
          "output_type": "display_data",
          "data": {
            "image/png": "[encoded data removed]",
            "text/plain": [
              "<Figure size 432x288 with 1 Axes>"
            ]
          },
          "metadata": {
            "needs_background": "light"
          }
        }
      ]
    },
    {
      "cell_type": "markdown",
      "source": [
        "##Converting the categorical data"
      ],
      "metadata": {
        "id": "8oyOfgy5M-YN"
      }
    },
    {
      "cell_type": "code",
      "source": [
        "df.info()"
      ],
      "metadata": {
        "colab": {
          "base_uri": "https://localhost:8080/"
        },
        "id": "HIjgq1jJN9v2",
        "outputId": "9fd0e019-437f-484c-9539-747625cfb765"
      },
      "execution_count": null,
      "outputs": [
        {
          "output_type": "stream",
          "name": "stdout",
          "text": [
            "<class 'pandas.core.frame.DataFrame'>\n",
            "Int64Index: 8466 entries, 0 to 8707\n",
            "Data columns (total 14 columns):\n",
            " #   Column          Non-Null Count  Dtype         \n",
            "---  ------          --------------  -----         \n",
            " 0   datetime        8466 non-null   datetime64[ns]\n",
            " 1   dates           8466 non-null   object        \n",
            " 2   hour            8466 non-null   int64         \n",
            " 3   weekday         8466 non-null   object        \n",
            " 4   month           8466 non-null   object        \n",
            " 5   season          8466 non-null   object        \n",
            " 6   holiday         8466 non-null   int64         \n",
            " 7   workingday      8466 non-null   int64         \n",
            " 8   weather         8466 non-null   object        \n",
            " 9   temp            8466 non-null   float64       \n",
            " 10  atemp           8466 non-null   float64       \n",
            " 11  humidity        8466 non-null   int64         \n",
            " 12  windspeed       8466 non-null   float64       \n",
            " 13  total_bookings  8466 non-null   int64         \n",
            "dtypes: datetime64[ns](1), float64(3), int64(5), object(5)\n",
            "memory usage: 992.1+ KB\n"
          ]
        }
      ]
    },
    {
      "cell_type": "code",
      "source": [
        "df=pd.get_dummies(df, columns=['weekday', 'month','season', 'weather'])"
      ],
      "metadata": {
        "id": "hCWIGqIiMYLr"
      },
      "execution_count": null,
      "outputs": []
    },
    {
      "cell_type": "code",
      "source": [
        "df.head()"
      ],
      "metadata": {
        "colab": {
          "base_uri": "https://localhost:8080/",
          "height": 513
        },
        "id": "xdO20aApUexL",
        "outputId": "19cbd0c5-f52a-435d-ed93-8fb280d0460b"
      },
      "execution_count": null,
      "outputs": [
        {
          "output_type": "execute_result",
          "data": {
            "text/html": [
              "\n",
              "  <div id=\"df-897c1da3-db7b-4770-b4f7-67c58b742829\">\n",
              "    <div class=\"colab-df-container\">\n",
              "      <div>\n",
              "<style scoped>\n",
              "    .dataframe tbody tr th:only-of-type {\n",
              "        vertical-align: middle;\n",
              "    }\n",
              "\n",
              "    .dataframe tbody tr th {\n",
              "        vertical-align: top;\n",
              "    }\n",
              "\n",
              "    .dataframe thead th {\n",
              "        text-align: right;\n",
              "    }\n",
              "</style>\n",
              "<table border=\"1\" class=\"dataframe\">\n",
              "  <thead>\n",
              "    <tr style=\"text-align: right;\">\n",
              "      <th></th>\n",
              "      <th>datetime</th>\n",
              "      <th>dates</th>\n",
              "      <th>hour</th>\n",
              "      <th>holiday</th>\n",
              "      <th>workingday</th>\n",
              "      <th>temp</th>\n",
              "      <th>atemp</th>\n",
              "      <th>humidity</th>\n",
              "      <th>windspeed</th>\n",
              "      <th>total_bookings</th>\n",
              "      <th>weekday_Friday</th>\n",
              "      <th>weekday_Monday</th>\n",
              "      <th>weekday_Saturday</th>\n",
              "      <th>weekday_Sunday</th>\n",
              "      <th>weekday_Thursday</th>\n",
              "      <th>weekday_Tuesday</th>\n",
              "      <th>weekday_Wednesday</th>\n",
              "      <th>month_April</th>\n",
              "      <th>month_August</th>\n",
              "      <th>month_December</th>\n",
              "      <th>month_February</th>\n",
              "      <th>month_January</th>\n",
              "      <th>month_July</th>\n",
              "      <th>month_June</th>\n",
              "      <th>month_March</th>\n",
              "      <th>month_May</th>\n",
              "      <th>month_November</th>\n",
              "      <th>month_October</th>\n",
              "      <th>month_September</th>\n",
              "      <th>season_Fall</th>\n",
              "      <th>season_Spring</th>\n",
              "      <th>season_Summer</th>\n",
              "      <th>season_Winter</th>\n",
              "      <th>weather_ Clear + Few clouds</th>\n",
              "      <th>weather_ Heavy Rain + Thunderstorm</th>\n",
              "      <th>weather_ Light Snow, Light Rain</th>\n",
              "      <th>weather_ Mist + Cloudy</th>\n",
              "    </tr>\n",
              "  </thead>\n",
              "  <tbody>\n",
              "    <tr>\n",
              "      <th>0</th>\n",
              "      <td>2012-05-02 19:00:00</td>\n",
              "      <td>2012-05-02</td>\n",
              "      <td>19</td>\n",
              "      <td>0</td>\n",
              "      <td>1</td>\n",
              "      <td>22.14</td>\n",
              "      <td>25.760</td>\n",
              "      <td>77</td>\n",
              "      <td>16.9979</td>\n",
              "      <td>504</td>\n",
              "      <td>0</td>\n",
              "      <td>0</td>\n",
              "      <td>0</td>\n",
              "      <td>0</td>\n",
              "      <td>0</td>\n",
              "      <td>0</td>\n",
              "      <td>1</td>\n",
              "      <td>0</td>\n",
              "      <td>0</td>\n",
              "      <td>0</td>\n",
              "      <td>0</td>\n",
              "      <td>0</td>\n",
              "      <td>0</td>\n",
              "      <td>0</td>\n",
              "      <td>0</td>\n",
              "      <td>1</td>\n",
              "      <td>0</td>\n",
              "      <td>0</td>\n",
              "      <td>0</td>\n",
              "      <td>0</td>\n",
              "      <td>0</td>\n",
              "      <td>1</td>\n",
              "      <td>0</td>\n",
              "      <td>1</td>\n",
              "      <td>0</td>\n",
              "      <td>0</td>\n",
              "      <td>0</td>\n",
              "    </tr>\n",
              "    <tr>\n",
              "      <th>1</th>\n",
              "      <td>2012-09-05 04:00:00</td>\n",
              "      <td>2012-09-05</td>\n",
              "      <td>4</td>\n",
              "      <td>0</td>\n",
              "      <td>1</td>\n",
              "      <td>28.70</td>\n",
              "      <td>33.335</td>\n",
              "      <td>79</td>\n",
              "      <td>19.0012</td>\n",
              "      <td>5</td>\n",
              "      <td>0</td>\n",
              "      <td>0</td>\n",
              "      <td>0</td>\n",
              "      <td>0</td>\n",
              "      <td>0</td>\n",
              "      <td>0</td>\n",
              "      <td>1</td>\n",
              "      <td>0</td>\n",
              "      <td>0</td>\n",
              "      <td>0</td>\n",
              "      <td>0</td>\n",
              "      <td>0</td>\n",
              "      <td>0</td>\n",
              "      <td>0</td>\n",
              "      <td>0</td>\n",
              "      <td>0</td>\n",
              "      <td>0</td>\n",
              "      <td>0</td>\n",
              "      <td>1</td>\n",
              "      <td>1</td>\n",
              "      <td>0</td>\n",
              "      <td>0</td>\n",
              "      <td>0</td>\n",
              "      <td>1</td>\n",
              "      <td>0</td>\n",
              "      <td>0</td>\n",
              "      <td>0</td>\n",
              "    </tr>\n",
              "    <tr>\n",
              "      <th>2</th>\n",
              "      <td>2011-01-13 09:00:00</td>\n",
              "      <td>2011-01-13</td>\n",
              "      <td>9</td>\n",
              "      <td>0</td>\n",
              "      <td>1</td>\n",
              "      <td>5.74</td>\n",
              "      <td>6.060</td>\n",
              "      <td>50</td>\n",
              "      <td>22.0028</td>\n",
              "      <td>139</td>\n",
              "      <td>0</td>\n",
              "      <td>0</td>\n",
              "      <td>0</td>\n",
              "      <td>0</td>\n",
              "      <td>1</td>\n",
              "      <td>0</td>\n",
              "      <td>0</td>\n",
              "      <td>0</td>\n",
              "      <td>0</td>\n",
              "      <td>0</td>\n",
              "      <td>0</td>\n",
              "      <td>1</td>\n",
              "      <td>0</td>\n",
              "      <td>0</td>\n",
              "      <td>0</td>\n",
              "      <td>0</td>\n",
              "      <td>0</td>\n",
              "      <td>0</td>\n",
              "      <td>0</td>\n",
              "      <td>0</td>\n",
              "      <td>1</td>\n",
              "      <td>0</td>\n",
              "      <td>0</td>\n",
              "      <td>1</td>\n",
              "      <td>0</td>\n",
              "      <td>0</td>\n",
              "      <td>0</td>\n",
              "    </tr>\n",
              "    <tr>\n",
              "      <th>3</th>\n",
              "      <td>2011-11-18 16:00:00</td>\n",
              "      <td>2011-11-18</td>\n",
              "      <td>16</td>\n",
              "      <td>0</td>\n",
              "      <td>1</td>\n",
              "      <td>13.94</td>\n",
              "      <td>16.665</td>\n",
              "      <td>29</td>\n",
              "      <td>8.9981</td>\n",
              "      <td>209</td>\n",
              "      <td>1</td>\n",
              "      <td>0</td>\n",
              "      <td>0</td>\n",
              "      <td>0</td>\n",
              "      <td>0</td>\n",
              "      <td>0</td>\n",
              "      <td>0</td>\n",
              "      <td>0</td>\n",
              "      <td>0</td>\n",
              "      <td>0</td>\n",
              "      <td>0</td>\n",
              "      <td>0</td>\n",
              "      <td>0</td>\n",
              "      <td>0</td>\n",
              "      <td>0</td>\n",
              "      <td>0</td>\n",
              "      <td>1</td>\n",
              "      <td>0</td>\n",
              "      <td>0</td>\n",
              "      <td>0</td>\n",
              "      <td>0</td>\n",
              "      <td>0</td>\n",
              "      <td>1</td>\n",
              "      <td>1</td>\n",
              "      <td>0</td>\n",
              "      <td>0</td>\n",
              "      <td>0</td>\n",
              "    </tr>\n",
              "    <tr>\n",
              "      <th>4</th>\n",
              "      <td>2011-09-13 13:00:00</td>\n",
              "      <td>2011-09-13</td>\n",
              "      <td>13</td>\n",
              "      <td>0</td>\n",
              "      <td>1</td>\n",
              "      <td>30.34</td>\n",
              "      <td>33.335</td>\n",
              "      <td>51</td>\n",
              "      <td>19.0012</td>\n",
              "      <td>184</td>\n",
              "      <td>0</td>\n",
              "      <td>0</td>\n",
              "      <td>0</td>\n",
              "      <td>0</td>\n",
              "      <td>0</td>\n",
              "      <td>1</td>\n",
              "      <td>0</td>\n",
              "      <td>0</td>\n",
              "      <td>0</td>\n",
              "      <td>0</td>\n",
              "      <td>0</td>\n",
              "      <td>0</td>\n",
              "      <td>0</td>\n",
              "      <td>0</td>\n",
              "      <td>0</td>\n",
              "      <td>0</td>\n",
              "      <td>0</td>\n",
              "      <td>0</td>\n",
              "      <td>1</td>\n",
              "      <td>1</td>\n",
              "      <td>0</td>\n",
              "      <td>0</td>\n",
              "      <td>0</td>\n",
              "      <td>1</td>\n",
              "      <td>0</td>\n",
              "      <td>0</td>\n",
              "      <td>0</td>\n",
              "    </tr>\n",
              "  </tbody>\n",
              "</table>\n",
              "</div>\n",
              "      <button class=\"colab-df-convert\" onclick=\"convertToInteractive('df-897c1da3-db7b-4770-b4f7-67c58b742829')\"\n",
              "              title=\"Convert this dataframe to an interactive table.\"\n",
              "              style=\"display:none;\">\n",
              "        \n",
              "  <svg xmlns=\"http://www.w3.org/2000/svg\" height=\"24px\"viewBox=\"0 0 24 24\"\n",
              "       width=\"24px\">\n",
              "    <path d=\"M0 0h24v24H0V0z\" fill=\"none\"/>\n",
              "    <path d=\"M18.56 5.44l.94 2.06.94-2.06 2.06-.94-2.06-.94-.94-2.06-.94 2.06-2.06.94zm-11 1L8.5 8.5l.94-2.06 2.06-.94-2.06-.94L8.5 2.5l-.94 2.06-2.06.94zm10 10l.94 2.06.94-2.06 2.06-.94-2.06-.94-.94-2.06-.94 2.06-2.06.94z\"/><path d=\"M17.41 7.96l-1.37-1.37c-.4-.4-.92-.59-1.43-.59-.52 0-1.04.2-1.43.59L10.3 9.45l-7.72 7.72c-.78.78-.78 2.05 0 2.83L4 21.41c.39.39.9.59 1.41.59.51 0 1.02-.2 1.41-.59l7.78-7.78 2.81-2.81c.8-.78.8-2.07 0-2.86zM5.41 20L4 18.59l7.72-7.72 1.47 1.35L5.41 20z\"/>\n",
              "  </svg>\n",
              "      </button>\n",
              "      \n",
              "  <style>\n",
              "    .colab-df-container {\n",
              "      display:flex;\n",
              "      flex-wrap:wrap;\n",
              "      gap: 12px;\n",
              "    }\n",
              "\n",
              "    .colab-df-convert {\n",
              "      background-color: #E8F0FE;\n",
              "      border: none;\n",
              "      border-radius: 50%;\n",
              "      cursor: pointer;\n",
              "      display: none;\n",
              "      fill: #1967D2;\n",
              "      height: 32px;\n",
              "      padding: 0 0 0 0;\n",
              "      width: 32px;\n",
              "    }\n",
              "\n",
              "    .colab-df-convert:hover {\n",
              "      background-color: #E2EBFA;\n",
              "      box-shadow: 0px 1px 2px rgba(60, 64, 67, 0.3), 0px 1px 3px 1px rgba(60, 64, 67, 0.15);\n",
              "      fill: #174EA6;\n",
              "    }\n",
              "\n",
              "    [theme=dark] .colab-df-convert {\n",
              "      background-color: #3B4455;\n",
              "      fill: #D2E3FC;\n",
              "    }\n",
              "\n",
              "    [theme=dark] .colab-df-convert:hover {\n",
              "      background-color: #434B5C;\n",
              "      box-shadow: 0px 1px 3px 1px rgba(0, 0, 0, 0.15);\n",
              "      filter: drop-shadow(0px 1px 2px rgba(0, 0, 0, 0.3));\n",
              "      fill: #FFFFFF;\n",
              "    }\n",
              "  </style>\n",
              "\n",
              "      <script>\n",
              "        const buttonEl =\n",
              "          document.querySelector('#df-897c1da3-db7b-4770-b4f7-67c58b742829 button.colab-df-convert');\n",
              "        buttonEl.style.display =\n",
              "          google.colab.kernel.accessAllowed ? 'block' : 'none';\n",
              "\n",
              "        async function convertToInteractive(key) {\n",
              "          const element = document.querySelector('#df-897c1da3-db7b-4770-b4f7-67c58b742829');\n",
              "          const dataTable =\n",
              "            await google.colab.kernel.invokeFunction('convertToInteractive',\n",
              "                                                     [key], {});\n",
              "          if (!dataTable) return;\n",
              "\n",
              "          const docLinkHtml = 'Like what you see? Visit the ' +\n",
              "            '<a target=\"_blank\" href=https://colab.research.google.com/notebooks/data_table.ipynb>data table notebook</a>'\n",
              "            + ' to learn more about interactive tables.';\n",
              "          element.innerHTML = '';\n",
              "          dataTable['output_type'] = 'display_data';\n",
              "          await google.colab.output.renderOutput(dataTable, element);\n",
              "          const docLink = document.createElement('div');\n",
              "          docLink.innerHTML = docLinkHtml;\n",
              "          element.appendChild(docLink);\n",
              "        }\n",
              "      </script>\n",
              "    </div>\n",
              "  </div>\n",
              "  "
            ],
            "text/plain": [
              "             datetime  ... weather_ Mist + Cloudy \n",
              "0 2012-05-02 19:00:00  ...                       0\n",
              "1 2012-09-05 04:00:00  ...                       0\n",
              "2 2011-01-13 09:00:00  ...                       0\n",
              "3 2011-11-18 16:00:00  ...                       0\n",
              "4 2011-09-13 13:00:00  ...                       0\n",
              "\n",
              "[5 rows x 37 columns]"
            ]
          },
          "metadata": {},
          "execution_count": 32
        }
      ]
    },
    {
      "cell_type": "code",
      "source": [
        "X=df.drop(columns=['datetime','dates','total_bookings'], axis=1)"
      ],
      "metadata": {
        "id": "MVmfqBwvUz3C"
      },
      "execution_count": null,
      "outputs": []
    },
    {
      "cell_type": "code",
      "source": [
        "X.head()"
      ],
      "metadata": {
        "colab": {
          "base_uri": "https://localhost:8080/",
          "height": 340
        },
        "id": "pFw_d9ISVVer",
        "outputId": "ef2a3316-df20-4062-beab-3bbee4b3eed5"
      },
      "execution_count": null,
      "outputs": [
        {
          "output_type": "execute_result",
          "data": {
            "text/html": [
              "\n",
              "  <div id=\"df-8be8dfe3-8ab3-423d-8cd1-38a27ca3cc5f\">\n",
              "    <div class=\"colab-df-container\">\n",
              "      <div>\n",
              "<style scoped>\n",
              "    .dataframe tbody tr th:only-of-type {\n",
              "        vertical-align: middle;\n",
              "    }\n",
              "\n",
              "    .dataframe tbody tr th {\n",
              "        vertical-align: top;\n",
              "    }\n",
              "\n",
              "    .dataframe thead th {\n",
              "        text-align: right;\n",
              "    }\n",
              "</style>\n",
              "<table border=\"1\" class=\"dataframe\">\n",
              "  <thead>\n",
              "    <tr style=\"text-align: right;\">\n",
              "      <th></th>\n",
              "      <th>hour</th>\n",
              "      <th>holiday</th>\n",
              "      <th>workingday</th>\n",
              "      <th>temp</th>\n",
              "      <th>atemp</th>\n",
              "      <th>humidity</th>\n",
              "      <th>windspeed</th>\n",
              "      <th>weekday_Friday</th>\n",
              "      <th>weekday_Monday</th>\n",
              "      <th>weekday_Saturday</th>\n",
              "      <th>weekday_Sunday</th>\n",
              "      <th>weekday_Thursday</th>\n",
              "      <th>weekday_Tuesday</th>\n",
              "      <th>weekday_Wednesday</th>\n",
              "      <th>month_April</th>\n",
              "      <th>month_August</th>\n",
              "      <th>month_December</th>\n",
              "      <th>month_February</th>\n",
              "      <th>month_January</th>\n",
              "      <th>month_July</th>\n",
              "      <th>month_June</th>\n",
              "      <th>month_March</th>\n",
              "      <th>month_May</th>\n",
              "      <th>month_November</th>\n",
              "      <th>month_October</th>\n",
              "      <th>month_September</th>\n",
              "      <th>season_Fall</th>\n",
              "      <th>season_Spring</th>\n",
              "      <th>season_Summer</th>\n",
              "      <th>season_Winter</th>\n",
              "      <th>weather_ Clear + Few clouds</th>\n",
              "      <th>weather_ Heavy Rain + Thunderstorm</th>\n",
              "      <th>weather_ Light Snow, Light Rain</th>\n",
              "      <th>weather_ Mist + Cloudy</th>\n",
              "    </tr>\n",
              "  </thead>\n",
              "  <tbody>\n",
              "    <tr>\n",
              "      <th>0</th>\n",
              "      <td>19</td>\n",
              "      <td>0</td>\n",
              "      <td>1</td>\n",
              "      <td>22.14</td>\n",
              "      <td>25.760</td>\n",
              "      <td>77</td>\n",
              "      <td>16.9979</td>\n",
              "      <td>0</td>\n",
              "      <td>0</td>\n",
              "      <td>0</td>\n",
              "      <td>0</td>\n",
              "      <td>0</td>\n",
              "      <td>0</td>\n",
              "      <td>1</td>\n",
              "      <td>0</td>\n",
              "      <td>0</td>\n",
              "      <td>0</td>\n",
              "      <td>0</td>\n",
              "      <td>0</td>\n",
              "      <td>0</td>\n",
              "      <td>0</td>\n",
              "      <td>0</td>\n",
              "      <td>1</td>\n",
              "      <td>0</td>\n",
              "      <td>0</td>\n",
              "      <td>0</td>\n",
              "      <td>0</td>\n",
              "      <td>0</td>\n",
              "      <td>1</td>\n",
              "      <td>0</td>\n",
              "      <td>1</td>\n",
              "      <td>0</td>\n",
              "      <td>0</td>\n",
              "      <td>0</td>\n",
              "    </tr>\n",
              "    <tr>\n",
              "      <th>1</th>\n",
              "      <td>4</td>\n",
              "      <td>0</td>\n",
              "      <td>1</td>\n",
              "      <td>28.70</td>\n",
              "      <td>33.335</td>\n",
              "      <td>79</td>\n",
              "      <td>19.0012</td>\n",
              "      <td>0</td>\n",
              "      <td>0</td>\n",
              "      <td>0</td>\n",
              "      <td>0</td>\n",
              "      <td>0</td>\n",
              "      <td>0</td>\n",
              "      <td>1</td>\n",
              "      <td>0</td>\n",
              "      <td>0</td>\n",
              "      <td>0</td>\n",
              "      <td>0</td>\n",
              "      <td>0</td>\n",
              "      <td>0</td>\n",
              "      <td>0</td>\n",
              "      <td>0</td>\n",
              "      <td>0</td>\n",
              "      <td>0</td>\n",
              "      <td>0</td>\n",
              "      <td>1</td>\n",
              "      <td>1</td>\n",
              "      <td>0</td>\n",
              "      <td>0</td>\n",
              "      <td>0</td>\n",
              "      <td>1</td>\n",
              "      <td>0</td>\n",
              "      <td>0</td>\n",
              "      <td>0</td>\n",
              "    </tr>\n",
              "    <tr>\n",
              "      <th>2</th>\n",
              "      <td>9</td>\n",
              "      <td>0</td>\n",
              "      <td>1</td>\n",
              "      <td>5.74</td>\n",
              "      <td>6.060</td>\n",
              "      <td>50</td>\n",
              "      <td>22.0028</td>\n",
              "      <td>0</td>\n",
              "      <td>0</td>\n",
              "      <td>0</td>\n",
              "      <td>0</td>\n",
              "      <td>1</td>\n",
              "      <td>0</td>\n",
              "      <td>0</td>\n",
              "      <td>0</td>\n",
              "      <td>0</td>\n",
              "      <td>0</td>\n",
              "      <td>0</td>\n",
              "      <td>1</td>\n",
              "      <td>0</td>\n",
              "      <td>0</td>\n",
              "      <td>0</td>\n",
              "      <td>0</td>\n",
              "      <td>0</td>\n",
              "      <td>0</td>\n",
              "      <td>0</td>\n",
              "      <td>0</td>\n",
              "      <td>1</td>\n",
              "      <td>0</td>\n",
              "      <td>0</td>\n",
              "      <td>1</td>\n",
              "      <td>0</td>\n",
              "      <td>0</td>\n",
              "      <td>0</td>\n",
              "    </tr>\n",
              "    <tr>\n",
              "      <th>3</th>\n",
              "      <td>16</td>\n",
              "      <td>0</td>\n",
              "      <td>1</td>\n",
              "      <td>13.94</td>\n",
              "      <td>16.665</td>\n",
              "      <td>29</td>\n",
              "      <td>8.9981</td>\n",
              "      <td>1</td>\n",
              "      <td>0</td>\n",
              "      <td>0</td>\n",
              "      <td>0</td>\n",
              "      <td>0</td>\n",
              "      <td>0</td>\n",
              "      <td>0</td>\n",
              "      <td>0</td>\n",
              "      <td>0</td>\n",
              "      <td>0</td>\n",
              "      <td>0</td>\n",
              "      <td>0</td>\n",
              "      <td>0</td>\n",
              "      <td>0</td>\n",
              "      <td>0</td>\n",
              "      <td>0</td>\n",
              "      <td>1</td>\n",
              "      <td>0</td>\n",
              "      <td>0</td>\n",
              "      <td>0</td>\n",
              "      <td>0</td>\n",
              "      <td>0</td>\n",
              "      <td>1</td>\n",
              "      <td>1</td>\n",
              "      <td>0</td>\n",
              "      <td>0</td>\n",
              "      <td>0</td>\n",
              "    </tr>\n",
              "    <tr>\n",
              "      <th>4</th>\n",
              "      <td>13</td>\n",
              "      <td>0</td>\n",
              "      <td>1</td>\n",
              "      <td>30.34</td>\n",
              "      <td>33.335</td>\n",
              "      <td>51</td>\n",
              "      <td>19.0012</td>\n",
              "      <td>0</td>\n",
              "      <td>0</td>\n",
              "      <td>0</td>\n",
              "      <td>0</td>\n",
              "      <td>0</td>\n",
              "      <td>1</td>\n",
              "      <td>0</td>\n",
              "      <td>0</td>\n",
              "      <td>0</td>\n",
              "      <td>0</td>\n",
              "      <td>0</td>\n",
              "      <td>0</td>\n",
              "      <td>0</td>\n",
              "      <td>0</td>\n",
              "      <td>0</td>\n",
              "      <td>0</td>\n",
              "      <td>0</td>\n",
              "      <td>0</td>\n",
              "      <td>1</td>\n",
              "      <td>1</td>\n",
              "      <td>0</td>\n",
              "      <td>0</td>\n",
              "      <td>0</td>\n",
              "      <td>1</td>\n",
              "      <td>0</td>\n",
              "      <td>0</td>\n",
              "      <td>0</td>\n",
              "    </tr>\n",
              "  </tbody>\n",
              "</table>\n",
              "</div>\n",
              "      <button class=\"colab-df-convert\" onclick=\"convertToInteractive('df-8be8dfe3-8ab3-423d-8cd1-38a27ca3cc5f')\"\n",
              "              title=\"Convert this dataframe to an interactive table.\"\n",
              "              style=\"display:none;\">\n",
              "        \n",
              "  <svg xmlns=\"http://www.w3.org/2000/svg\" height=\"24px\"viewBox=\"0 0 24 24\"\n",
              "       width=\"24px\">\n",
              "    <path d=\"M0 0h24v24H0V0z\" fill=\"none\"/>\n",
              "    <path d=\"M18.56 5.44l.94 2.06.94-2.06 2.06-.94-2.06-.94-.94-2.06-.94 2.06-2.06.94zm-11 1L8.5 8.5l.94-2.06 2.06-.94-2.06-.94L8.5 2.5l-.94 2.06-2.06.94zm10 10l.94 2.06.94-2.06 2.06-.94-2.06-.94-.94-2.06-.94 2.06-2.06.94z\"/><path d=\"M17.41 7.96l-1.37-1.37c-.4-.4-.92-.59-1.43-.59-.52 0-1.04.2-1.43.59L10.3 9.45l-7.72 7.72c-.78.78-.78 2.05 0 2.83L4 21.41c.39.39.9.59 1.41.59.51 0 1.02-.2 1.41-.59l7.78-7.78 2.81-2.81c.8-.78.8-2.07 0-2.86zM5.41 20L4 18.59l7.72-7.72 1.47 1.35L5.41 20z\"/>\n",
              "  </svg>\n",
              "      </button>\n",
              "      \n",
              "  <style>\n",
              "    .colab-df-container {\n",
              "      display:flex;\n",
              "      flex-wrap:wrap;\n",
              "      gap: 12px;\n",
              "    }\n",
              "\n",
              "    .colab-df-convert {\n",
              "      background-color: #E8F0FE;\n",
              "      border: none;\n",
              "      border-radius: 50%;\n",
              "      cursor: pointer;\n",
              "      display: none;\n",
              "      fill: #1967D2;\n",
              "      height: 32px;\n",
              "      padding: 0 0 0 0;\n",
              "      width: 32px;\n",
              "    }\n",
              "\n",
              "    .colab-df-convert:hover {\n",
              "      background-color: #E2EBFA;\n",
              "      box-shadow: 0px 1px 2px rgba(60, 64, 67, 0.3), 0px 1px 3px 1px rgba(60, 64, 67, 0.15);\n",
              "      fill: #174EA6;\n",
              "    }\n",
              "\n",
              "    [theme=dark] .colab-df-convert {\n",
              "      background-color: #3B4455;\n",
              "      fill: #D2E3FC;\n",
              "    }\n",
              "\n",
              "    [theme=dark] .colab-df-convert:hover {\n",
              "      background-color: #434B5C;\n",
              "      box-shadow: 0px 1px 3px 1px rgba(0, 0, 0, 0.15);\n",
              "      filter: drop-shadow(0px 1px 2px rgba(0, 0, 0, 0.3));\n",
              "      fill: #FFFFFF;\n",
              "    }\n",
              "  </style>\n",
              "\n",
              "      <script>\n",
              "        const buttonEl =\n",
              "          document.querySelector('#df-8be8dfe3-8ab3-423d-8cd1-38a27ca3cc5f button.colab-df-convert');\n",
              "        buttonEl.style.display =\n",
              "          google.colab.kernel.accessAllowed ? 'block' : 'none';\n",
              "\n",
              "        async function convertToInteractive(key) {\n",
              "          const element = document.querySelector('#df-8be8dfe3-8ab3-423d-8cd1-38a27ca3cc5f');\n",
              "          const dataTable =\n",
              "            await google.colab.kernel.invokeFunction('convertToInteractive',\n",
              "                                                     [key], {});\n",
              "          if (!dataTable) return;\n",
              "\n",
              "          const docLinkHtml = 'Like what you see? Visit the ' +\n",
              "            '<a target=\"_blank\" href=https://colab.research.google.com/notebooks/data_table.ipynb>data table notebook</a>'\n",
              "            + ' to learn more about interactive tables.';\n",
              "          element.innerHTML = '';\n",
              "          dataTable['output_type'] = 'display_data';\n",
              "          await google.colab.output.renderOutput(dataTable, element);\n",
              "          const docLink = document.createElement('div');\n",
              "          docLink.innerHTML = docLinkHtml;\n",
              "          element.appendChild(docLink);\n",
              "        }\n",
              "      </script>\n",
              "    </div>\n",
              "  </div>\n",
              "  "
            ],
            "text/plain": [
              "   hour  holiday  ...  weather_ Light Snow, Light Rain  weather_ Mist + Cloudy \n",
              "0    19        0  ...                                0                        0\n",
              "1     4        0  ...                                0                        0\n",
              "2     9        0  ...                                0                        0\n",
              "3    16        0  ...                                0                        0\n",
              "4    13        0  ...                                0                        0\n",
              "\n",
              "[5 rows x 34 columns]"
            ]
          },
          "metadata": {},
          "execution_count": 34
        }
      ]
    },
    {
      "cell_type": "code",
      "source": [
        "y=df['total_bookings']"
      ],
      "metadata": {
        "id": "S523Uq4KVwMe"
      },
      "execution_count": null,
      "outputs": []
    },
    {
      "cell_type": "markdown",
      "source": [
        "##train_test_split"
      ],
      "metadata": {
        "id": "_r6X0NpzVfn8"
      }
    },
    {
      "cell_type": "code",
      "source": [
        "from sklearn.model_selection import train_test_split"
      ],
      "metadata": {
        "id": "ruMeYLqnV9Ws"
      },
      "execution_count": null,
      "outputs": []
    },
    {
      "cell_type": "code",
      "source": [
        "X_train, X_test, y_train, y_test= train_test_split(X, y, test_size=0.25, random_state=7)"
      ],
      "metadata": {
        "id": "2nOcsicwWbAV"
      },
      "execution_count": null,
      "outputs": []
    },
    {
      "cell_type": "markdown",
      "source": [
        "## Training various regression models"
      ],
      "metadata": {
        "id": "YC0IHZy3WWKu"
      }
    },
    {
      "cell_type": "markdown",
      "source": [
        "### Random_Forest"
      ],
      "metadata": {
        "id": "rvrCHGtQWdII"
      }
    },
    {
      "cell_type": "code",
      "source": [
        "from sklearn.ensemble import RandomForestRegressor\n",
        "reg=RandomForestRegressor(n_estimators=100)\n",
        "reg.fit(X_train, y_train)"
      ],
      "metadata": {
        "colab": {
          "base_uri": "https://localhost:8080/"
        },
        "id": "hYxuMwgIWu73",
        "outputId": "241cb4f7-b5ef-4045-dcfa-1b8281661c7b"
      },
      "execution_count": null,
      "outputs": [
        {
          "output_type": "execute_result",
          "data": {
            "text/plain": [
              "RandomForestRegressor()"
            ]
          },
          "metadata": {},
          "execution_count": 69
        }
      ]
    },
    {
      "cell_type": "code",
      "source": [
        "y_pred=reg.predict(X_test)\n",
        "from sklearn.metrics import mean_squared_error\n",
        "mse_rf= mean_squared_error(y_test, y_pred)\n",
        "rmse_rf=mse_rf**0.5\n",
        "rmse_rf"
      ],
      "metadata": {
        "id": "9bcfWYukYvlJ",
        "colab": {
          "base_uri": "https://localhost:8080/"
        },
        "outputId": "2c6ee8c0-a5ea-4e98-b827-1e7929d650b3"
      },
      "execution_count": null,
      "outputs": [
        {
          "output_type": "execute_result",
          "data": {
            "text/plain": [
              "57.937305512513575"
            ]
          },
          "metadata": {},
          "execution_count": 45
        }
      ]
    },
    {
      "cell_type": "markdown",
      "source": [
        "### SVR"
      ],
      "metadata": {
        "id": "UNvXiJe_W-Hh"
      }
    },
    {
      "cell_type": "code",
      "source": [
        "from sklearn.svm import SVR\n",
        "from sklearn.preprocessing import StandardScaler"
      ],
      "metadata": {
        "id": "IB1cHyohaufM"
      },
      "execution_count": null,
      "outputs": []
    },
    {
      "cell_type": "code",
      "source": [
        "sc_x= StandardScaler()\n",
        "sc_y= StandardScaler()"
      ],
      "metadata": {
        "id": "_5MjRzEOQeK-"
      },
      "execution_count": null,
      "outputs": []
    },
    {
      "cell_type": "code",
      "source": [
        "Y=y.values"
      ],
      "metadata": {
        "id": "XkpEnqf7RTa6"
      },
      "execution_count": null,
      "outputs": []
    },
    {
      "cell_type": "code",
      "source": [
        "Y=Y.reshape(len(Y),1)"
      ],
      "metadata": {
        "id": "Z8TlTGAkSLyU"
      },
      "execution_count": null,
      "outputs": []
    },
    {
      "cell_type": "code",
      "source": [
        "X_svr= sc_x.fit_transform(X)\n",
        "y_svr= sc_y.fit_transform(Y)"
      ],
      "metadata": {
        "id": "5u4r6Kw8QvBC"
      },
      "execution_count": null,
      "outputs": []
    },
    {
      "cell_type": "code",
      "source": [
        "x_train, x_test, Y_train, Y_test= train_test_split(X_svr, y_svr, test_size=0.25, random_state=7)"
      ],
      "metadata": {
        "id": "717sW3ddSgkE"
      },
      "execution_count": null,
      "outputs": []
    },
    {
      "cell_type": "code",
      "source": [
        "svr=SVR(kernel='rbf')\n",
        "svr.fit(x_train, Y_train)"
      ],
      "metadata": {
        "colab": {
          "base_uri": "https://localhost:8080/"
        },
        "id": "6I6YxaIxTSCl",
        "outputId": "ea919b77-f895-448e-df83-78ac2ecd5f89"
      },
      "execution_count": null,
      "outputs": [
        {
          "output_type": "execute_result",
          "data": {
            "text/plain": [
              "SVR()"
            ]
          },
          "metadata": {},
          "execution_count": 54
        }
      ]
    },
    {
      "cell_type": "code",
      "source": [
        "y_pred=svr.predict(x_test)\n",
        "y_pred=y_pred.reshape(len(y_pred),1)"
      ],
      "metadata": {
        "id": "Mh-CcagWT0-t"
      },
      "execution_count": null,
      "outputs": []
    },
    {
      "cell_type": "code",
      "source": [
        "Y_test.shape"
      ],
      "metadata": {
        "colab": {
          "base_uri": "https://localhost:8080/"
        },
        "id": "zOw7kdoEU0eR",
        "outputId": "a14654ca-dec1-4be6-d7b6-fb14c15bf73a"
      },
      "execution_count": null,
      "outputs": [
        {
          "output_type": "execute_result",
          "data": {
            "text/plain": [
              "(2117, 1)"
            ]
          },
          "metadata": {},
          "execution_count": 56
        }
      ]
    },
    {
      "cell_type": "code",
      "source": [
        "mse_svr=mean_squared_error(sc_y.inverse_transform(y_pred), sc_y.inverse_transform(Y_test))\n",
        "rmse_svr=mse_svr**0.5\n",
        "rmse_svr"
      ],
      "metadata": {
        "colab": {
          "base_uri": "https://localhost:8080/"
        },
        "id": "DMpiU-4TT84V",
        "outputId": "6d317e3b-423a-4567-ee6e-a6bb958dcecd"
      },
      "execution_count": null,
      "outputs": [
        {
          "output_type": "execute_result",
          "data": {
            "text/plain": [
              "112.07594465404543"
            ]
          },
          "metadata": {},
          "execution_count": 57
        }
      ]
    },
    {
      "cell_type": "markdown",
      "source": [
        "### KNN"
      ],
      "metadata": {
        "id": "nY8PTHZpXCL5"
      }
    },
    {
      "cell_type": "code",
      "source": [
        "from sklearn.neighbors import KNeighborsRegressor"
      ],
      "metadata": {
        "id": "pos_c1LgW6iY"
      },
      "execution_count": null,
      "outputs": []
    },
    {
      "cell_type": "code",
      "source": [
        "knn= KNeighborsRegressor(n_neighbors=10)\n",
        "knn.fit(X_train, y_train)"
      ],
      "metadata": {
        "colab": {
          "base_uri": "https://localhost:8080/"
        },
        "id": "l5T2JRxWXmvJ",
        "outputId": "bfff2ae2-9f38-4322-fdf9-3358a0af51f0"
      },
      "execution_count": null,
      "outputs": [
        {
          "output_type": "execute_result",
          "data": {
            "text/plain": [
              "KNeighborsRegressor(n_neighbors=10)"
            ]
          },
          "metadata": {},
          "execution_count": 59
        }
      ]
    },
    {
      "cell_type": "code",
      "source": [
        "y_pred=knn.predict(X_test)\n",
        "mse_knn= mean_squared_error(y_pred, y_test)\n",
        "rmse_knn= mse_knn**0.5\n",
        "rmse_knn"
      ],
      "metadata": {
        "colab": {
          "base_uri": "https://localhost:8080/"
        },
        "id": "CzukiyN2X4lQ",
        "outputId": "84108c58-7f59-4ef3-836d-45fb2d263301"
      },
      "execution_count": null,
      "outputs": [
        {
          "output_type": "execute_result",
          "data": {
            "text/plain": [
              "107.37676131753989"
            ]
          },
          "metadata": {},
          "execution_count": 60
        }
      ]
    },
    {
      "cell_type": "markdown",
      "source": [
        "### Bagging Regression"
      ],
      "metadata": {
        "id": "a_IgaauBZPk2"
      }
    },
    {
      "cell_type": "code",
      "source": [
        "from sklearn.ensemble import BaggingRegressor\n",
        "rf=RandomForestRegressor()\n",
        "bag=BaggingRegressor(rf, n_estimators=100)\n",
        "bag.fit(X_train,y_train)"
      ],
      "metadata": {
        "colab": {
          "base_uri": "https://localhost:8080/"
        },
        "id": "J8CoILbGZOkj",
        "outputId": "9b3cb24d-9e23-473c-c89f-62df57deadff"
      },
      "execution_count": null,
      "outputs": [
        {
          "output_type": "execute_result",
          "data": {
            "text/plain": [
              "BaggingRegressor(base_estimator=RandomForestRegressor(), n_estimators=100)"
            ]
          },
          "metadata": {},
          "execution_count": 47
        }
      ]
    },
    {
      "cell_type": "code",
      "source": [
        "y_pred= bag.predict(X_test)\n",
        "mse_bag= mean_squared_error(y_pred, y_test)\n",
        "rmse_bag= mse_bag**0.5\n",
        "rmse_bag"
      ],
      "metadata": {
        "colab": {
          "base_uri": "https://localhost:8080/"
        },
        "id": "XeH9Ve_IJzMR",
        "outputId": "b69224b5-e58b-4038-ce70-7f8401fa0bdd"
      },
      "execution_count": null,
      "outputs": [
        {
          "output_type": "execute_result",
          "data": {
            "text/plain": [
              "59.01222267307996"
            ]
          },
          "metadata": {},
          "execution_count": 63
        }
      ]
    },
    {
      "cell_type": "markdown",
      "source": [
        "### Ada Boost Regression"
      ],
      "metadata": {
        "id": "iqD2A4X9LER-"
      }
    },
    {
      "cell_type": "code",
      "source": [
        "from sklearn.ensemble import AdaBoostRegressor\n",
        "boost= AdaBoostRegressor(rf, n_estimators=50, loss='exponential', random_state=7)\n",
        "boost.fit(X_train, y_train)"
      ],
      "metadata": {
        "colab": {
          "base_uri": "https://localhost:8080/"
        },
        "id": "T7UGrVqCLDkb",
        "outputId": "162714ea-9211-4c95-8025-20603e0bda8e"
      },
      "execution_count": null,
      "outputs": [
        {
          "output_type": "execute_result",
          "data": {
            "text/plain": [
              "AdaBoostRegressor(base_estimator=RandomForestRegressor(), loss='exponential',\n",
              "                  random_state=7)"
            ]
          },
          "metadata": {},
          "execution_count": 64
        }
      ]
    },
    {
      "cell_type": "code",
      "source": [
        "y_pred= boost.predict(X_test)\n",
        "mse_boost= mean_squared_error(y_pred, y_test)\n",
        "rmse_boost= mse_boost**0.5\n",
        "rmse_boost"
      ],
      "metadata": {
        "colab": {
          "base_uri": "https://localhost:8080/"
        },
        "id": "Y44y8PBLMM6u",
        "outputId": "85aa1191-33bf-4681-e3b0-a6b7934fb325"
      },
      "execution_count": null,
      "outputs": [
        {
          "output_type": "execute_result",
          "data": {
            "text/plain": [
              "59.59846591474128"
            ]
          },
          "metadata": {},
          "execution_count": 65
        }
      ]
    },
    {
      "cell_type": "markdown",
      "source": [
        "### GridSearchCV"
      ],
      "metadata": {
        "id": "o89rBLUENts1"
      }
    },
    {
      "cell_type": "code",
      "source": [
        "from sklearn.model_selection import GridSearchCV # I have used \"reg\" for Random Forest Regressor!\n",
        "grid_cv= GridSearchCV(reg,\n",
        "                   param_grid={\"criterion\":[\"squared_error\", \"poisson\"],\n",
        "                               \"max_depth\": range(2,30)},\n",
        "                   cv=5,\n",
        "                   scoring='neg_root_mean_squared_error',\n",
        "                   verbose=4)\n",
        "grid_cv.fit(X_train, y_train)"
      ],
      "metadata": {
        "colab": {
          "base_uri": "https://localhost:8080/"
        },
        "id": "CAJIQ22WNqvs",
        "outputId": "f9119bc8-2c7d-490e-fb9e-b1dac7f8f3fe"
      },
      "execution_count": null,
      "outputs": [
        {
          "output_type": "stream",
          "name": "stdout",
          "text": [
            "Fitting 5 folds for each of 56 candidates, totalling 280 fits\n",
            "[CV 1/5] END criterion=squared_error, max_depth=2;, score=-112.131 total time=   0.4s\n",
            "[CV 2/5] END criterion=squared_error, max_depth=2;, score=-110.347 total time=   0.4s\n",
            "[CV 3/5] END criterion=squared_error, max_depth=2;, score=-116.841 total time=   0.4s\n",
            "[CV 4/5] END criterion=squared_error, max_depth=2;, score=-115.231 total time=   0.4s\n",
            "[CV 5/5] END criterion=squared_error, max_depth=2;, score=-117.964 total time=   0.4s\n",
            "[CV 1/5] END criterion=squared_error, max_depth=3;, score=-104.271 total time=   0.5s\n",
            "[CV 2/5] END criterion=squared_error, max_depth=3;, score=-103.604 total time=   0.5s\n",
            "[CV 3/5] END criterion=squared_error, max_depth=3;, score=-107.889 total time=   0.5s\n",
            "[CV 4/5] END criterion=squared_error, max_depth=3;, score=-104.434 total time=   0.5s\n",
            "[CV 5/5] END criterion=squared_error, max_depth=3;, score=-109.239 total time=   0.5s\n",
            "[CV 1/5] END criterion=squared_error, max_depth=4;, score=-96.442 total time=   0.6s\n",
            "[CV 2/5] END criterion=squared_error, max_depth=4;, score=-96.257 total time=   0.6s\n",
            "[CV 3/5] END criterion=squared_error, max_depth=4;, score=-103.156 total time=   0.6s\n",
            "[CV 4/5] END criterion=squared_error, max_depth=4;, score=-97.974 total time=   0.6s\n",
            "[CV 5/5] END criterion=squared_error, max_depth=4;, score=-102.888 total time=   0.6s\n",
            "[CV 1/5] END criterion=squared_error, max_depth=5;, score=-91.273 total time=   0.8s\n",
            "[CV 2/5] END criterion=squared_error, max_depth=5;, score=-90.736 total time=   0.8s\n",
            "[CV 3/5] END criterion=squared_error, max_depth=5;, score=-95.235 total time=   0.8s\n",
            "[CV 4/5] END criterion=squared_error, max_depth=5;, score=-93.153 total time=   0.8s\n",
            "[CV 5/5] END criterion=squared_error, max_depth=5;, score=-97.166 total time=   0.8s\n",
            "[CV 1/5] END criterion=squared_error, max_depth=6;, score=-79.121 total time=   0.9s\n",
            "[CV 2/5] END criterion=squared_error, max_depth=6;, score=-79.208 total time=   0.9s\n",
            "[CV 3/5] END criterion=squared_error, max_depth=6;, score=-83.035 total time=   0.9s\n",
            "[CV 4/5] END criterion=squared_error, max_depth=6;, score=-82.154 total time=   0.9s\n",
            "[CV 5/5] END criterion=squared_error, max_depth=6;, score=-87.144 total time=   0.9s\n",
            "[CV 1/5] END criterion=squared_error, max_depth=7;, score=-72.366 total time=   1.0s\n",
            "[CV 2/5] END criterion=squared_error, max_depth=7;, score=-72.612 total time=   1.0s\n",
            "[CV 3/5] END criterion=squared_error, max_depth=7;, score=-77.212 total time=   1.0s\n",
            "[CV 4/5] END criterion=squared_error, max_depth=7;, score=-77.427 total time=   1.0s\n",
            "[CV 5/5] END criterion=squared_error, max_depth=7;, score=-79.706 total time=   1.0s\n",
            "[CV 1/5] END criterion=squared_error, max_depth=8;, score=-67.751 total time=   1.2s\n",
            "[CV 2/5] END criterion=squared_error, max_depth=8;, score=-68.535 total time=   1.2s\n",
            "[CV 3/5] END criterion=squared_error, max_depth=8;, score=-72.609 total time=   1.2s\n",
            "[CV 4/5] END criterion=squared_error, max_depth=8;, score=-73.519 total time=   1.2s\n",
            "[CV 5/5] END criterion=squared_error, max_depth=8;, score=-75.579 total time=   1.1s\n",
            "[CV 1/5] END criterion=squared_error, max_depth=9;, score=-64.293 total time=   1.3s\n",
            "[CV 2/5] END criterion=squared_error, max_depth=9;, score=-65.672 total time=   1.3s\n",
            "[CV 3/5] END criterion=squared_error, max_depth=9;, score=-69.248 total time=   1.3s\n",
            "[CV 4/5] END criterion=squared_error, max_depth=9;, score=-70.253 total time=   1.3s\n",
            "[CV 5/5] END criterion=squared_error, max_depth=9;, score=-71.701 total time=   1.3s\n",
            "[CV 1/5] END criterion=squared_error, max_depth=10;, score=-62.450 total time=   1.5s\n",
            "[CV 2/5] END criterion=squared_error, max_depth=10;, score=-63.491 total time=   1.5s\n",
            "[CV 3/5] END criterion=squared_error, max_depth=10;, score=-67.094 total time=   1.5s\n",
            "[CV 4/5] END criterion=squared_error, max_depth=10;, score=-68.015 total time=   1.5s\n",
            "[CV 5/5] END criterion=squared_error, max_depth=10;, score=-69.201 total time=   1.5s\n",
            "[CV 1/5] END criterion=squared_error, max_depth=11;, score=-61.355 total time=   1.7s\n",
            "[CV 2/5] END criterion=squared_error, max_depth=11;, score=-62.247 total time=   1.6s\n",
            "[CV 3/5] END criterion=squared_error, max_depth=11;, score=-65.685 total time=   1.6s\n",
            "[CV 4/5] END criterion=squared_error, max_depth=11;, score=-66.826 total time=   1.7s\n",
            "[CV 5/5] END criterion=squared_error, max_depth=11;, score=-67.549 total time=   1.6s\n",
            "[CV 1/5] END criterion=squared_error, max_depth=12;, score=-60.875 total time=   1.8s\n",
            "[CV 2/5] END criterion=squared_error, max_depth=12;, score=-61.463 total time=   1.8s\n",
            "[CV 3/5] END criterion=squared_error, max_depth=12;, score=-65.058 total time=   1.8s\n",
            "[CV 4/5] END criterion=squared_error, max_depth=12;, score=-65.859 total time=   1.8s\n",
            "[CV 5/5] END criterion=squared_error, max_depth=12;, score=-66.566 total time=   1.8s\n",
            "[CV 1/5] END criterion=squared_error, max_depth=13;, score=-60.557 total time=   1.9s\n",
            "[CV 2/5] END criterion=squared_error, max_depth=13;, score=-61.122 total time=   2.0s\n",
            "[CV 3/5] END criterion=squared_error, max_depth=13;, score=-64.667 total time=   1.9s\n",
            "[CV 4/5] END criterion=squared_error, max_depth=13;, score=-65.210 total time=   1.9s\n",
            "[CV 5/5] END criterion=squared_error, max_depth=13;, score=-65.925 total time=   1.9s\n",
            "[CV 1/5] END criterion=squared_error, max_depth=14;, score=-60.564 total time=   2.1s\n",
            "[CV 2/5] END criterion=squared_error, max_depth=14;, score=-60.720 total time=   2.1s\n",
            "[CV 3/5] END criterion=squared_error, max_depth=14;, score=-64.359 total time=   2.1s\n",
            "[CV 4/5] END criterion=squared_error, max_depth=14;, score=-65.024 total time=   2.1s\n",
            "[CV 5/5] END criterion=squared_error, max_depth=14;, score=-65.680 total time=   2.1s\n",
            "[CV 1/5] END criterion=squared_error, max_depth=15;, score=-60.446 total time=   2.2s\n",
            "[CV 2/5] END criterion=squared_error, max_depth=15;, score=-60.786 total time=   2.2s\n",
            "[CV 3/5] END criterion=squared_error, max_depth=15;, score=-64.214 total time=   2.2s\n",
            "[CV 4/5] END criterion=squared_error, max_depth=15;, score=-64.907 total time=   2.2s\n",
            "[CV 5/5] END criterion=squared_error, max_depth=15;, score=-65.186 total time=   2.2s\n",
            "[CV 1/5] END criterion=squared_error, max_depth=16;, score=-60.682 total time=   2.3s\n",
            "[CV 2/5] END criterion=squared_error, max_depth=16;, score=-60.553 total time=   2.3s\n",
            "[CV 3/5] END criterion=squared_error, max_depth=16;, score=-64.035 total time=   2.3s\n",
            "[CV 4/5] END criterion=squared_error, max_depth=16;, score=-64.856 total time=   2.2s\n",
            "[CV 5/5] END criterion=squared_error, max_depth=16;, score=-65.003 total time=   2.3s\n",
            "[CV 1/5] END criterion=squared_error, max_depth=17;, score=-60.562 total time=   2.3s\n",
            "[CV 2/5] END criterion=squared_error, max_depth=17;, score=-60.651 total time=   2.3s\n",
            "[CV 3/5] END criterion=squared_error, max_depth=17;, score=-64.358 total time=   2.3s\n",
            "[CV 4/5] END criterion=squared_error, max_depth=17;, score=-64.723 total time=   2.3s\n",
            "[CV 5/5] END criterion=squared_error, max_depth=17;, score=-64.846 total time=   2.4s\n",
            "[CV 1/5] END criterion=squared_error, max_depth=18;, score=-60.287 total time=   2.4s\n",
            "[CV 2/5] END criterion=squared_error, max_depth=18;, score=-60.602 total time=   2.4s\n",
            "[CV 3/5] END criterion=squared_error, max_depth=18;, score=-63.836 total time=   2.4s\n",
            "[CV 4/5] END criterion=squared_error, max_depth=18;, score=-64.801 total time=   2.4s\n",
            "[CV 5/5] END criterion=squared_error, max_depth=18;, score=-64.752 total time=   2.4s\n",
            "[CV 1/5] END criterion=squared_error, max_depth=19;, score=-60.553 total time=   2.4s\n",
            "[CV 2/5] END criterion=squared_error, max_depth=19;, score=-60.733 total time=   2.4s\n",
            "[CV 3/5] END criterion=squared_error, max_depth=19;, score=-63.901 total time=   2.4s\n",
            "[CV 4/5] END criterion=squared_error, max_depth=19;, score=-65.056 total time=   2.4s\n",
            "[CV 5/5] END criterion=squared_error, max_depth=19;, score=-64.828 total time=   2.4s\n",
            "[CV 1/5] END criterion=squared_error, max_depth=20;, score=-60.380 total time=   2.4s\n",
            "[CV 2/5] END criterion=squared_error, max_depth=20;, score=-60.527 total time=   2.4s\n",
            "[CV 3/5] END criterion=squared_error, max_depth=20;, score=-64.176 total time=   2.4s\n",
            "[CV 4/5] END criterion=squared_error, max_depth=20;, score=-64.901 total time=   2.4s\n",
            "[CV 5/5] END criterion=squared_error, max_depth=20;, score=-64.661 total time=   2.4s\n",
            "[CV 1/5] END criterion=squared_error, max_depth=21;, score=-60.319 total time=   2.4s\n",
            "[CV 2/5] END criterion=squared_error, max_depth=21;, score=-60.489 total time=   2.5s\n",
            "[CV 3/5] END criterion=squared_error, max_depth=21;, score=-64.060 total time=   2.5s\n",
            "[CV 4/5] END criterion=squared_error, max_depth=21;, score=-64.592 total time=   2.4s\n",
            "[CV 5/5] END criterion=squared_error, max_depth=21;, score=-64.634 total time=   2.4s\n",
            "[CV 1/5] END criterion=squared_error, max_depth=22;, score=-60.333 total time=   2.5s\n",
            "[CV 2/5] END criterion=squared_error, max_depth=22;, score=-60.708 total time=   2.5s\n",
            "[CV 3/5] END criterion=squared_error, max_depth=22;, score=-64.242 total time=   2.5s\n",
            "[CV 4/5] END criterion=squared_error, max_depth=22;, score=-64.848 total time=   2.5s\n",
            "[CV 5/5] END criterion=squared_error, max_depth=22;, score=-64.411 total time=   2.5s\n",
            "[CV 1/5] END criterion=squared_error, max_depth=23;, score=-60.386 total time=   2.5s\n",
            "[CV 2/5] END criterion=squared_error, max_depth=23;, score=-60.589 total time=   2.5s\n",
            "[CV 3/5] END criterion=squared_error, max_depth=23;, score=-64.105 total time=   2.5s\n",
            "[CV 4/5] END criterion=squared_error, max_depth=23;, score=-64.788 total time=   2.5s\n",
            "[CV 5/5] END criterion=squared_error, max_depth=23;, score=-64.657 total time=   2.5s\n",
            "[CV 1/5] END criterion=squared_error, max_depth=24;, score=-60.264 total time=   2.5s\n",
            "[CV 2/5] END criterion=squared_error, max_depth=24;, score=-60.415 total time=   2.5s\n",
            "[CV 3/5] END criterion=squared_error, max_depth=24;, score=-64.104 total time=   2.5s\n",
            "[CV 4/5] END criterion=squared_error, max_depth=24;, score=-64.873 total time=   2.5s\n",
            "[CV 5/5] END criterion=squared_error, max_depth=24;, score=-64.570 total time=   2.5s\n",
            "[CV 1/5] END criterion=squared_error, max_depth=25;, score=-60.356 total time=   2.5s\n",
            "[CV 2/5] END criterion=squared_error, max_depth=25;, score=-60.526 total time=   2.5s\n",
            "[CV 3/5] END criterion=squared_error, max_depth=25;, score=-64.066 total time=   2.5s\n",
            "[CV 4/5] END criterion=squared_error, max_depth=25;, score=-64.798 total time=   2.5s\n",
            "[CV 5/5] END criterion=squared_error, max_depth=25;, score=-64.555 total time=   2.5s\n",
            "[CV 1/5] END criterion=squared_error, max_depth=26;, score=-60.304 total time=   2.6s\n",
            "[CV 2/5] END criterion=squared_error, max_depth=26;, score=-60.512 total time=   2.5s\n",
            "[CV 3/5] END criterion=squared_error, max_depth=26;, score=-64.095 total time=   2.5s\n",
            "[CV 4/5] END criterion=squared_error, max_depth=26;, score=-64.743 total time=   2.5s\n",
            "[CV 5/5] END criterion=squared_error, max_depth=26;, score=-64.616 total time=   2.5s\n",
            "[CV 1/5] END criterion=squared_error, max_depth=27;, score=-60.245 total time=   2.5s\n",
            "[CV 2/5] END criterion=squared_error, max_depth=27;, score=-60.635 total time=   2.5s\n",
            "[CV 3/5] END criterion=squared_error, max_depth=27;, score=-64.118 total time=   2.5s\n",
            "[CV 4/5] END criterion=squared_error, max_depth=27;, score=-64.853 total time=   2.5s\n",
            "[CV 5/5] END criterion=squared_error, max_depth=27;, score=-64.561 total time=   2.5s\n",
            "[CV 1/5] END criterion=squared_error, max_depth=28;, score=-60.267 total time=   2.5s\n",
            "[CV 2/5] END criterion=squared_error, max_depth=28;, score=-60.571 total time=   2.5s\n",
            "[CV 3/5] END criterion=squared_error, max_depth=28;, score=-64.028 total time=   2.5s\n",
            "[CV 4/5] END criterion=squared_error, max_depth=28;, score=-64.827 total time=   2.5s\n",
            "[CV 5/5] END criterion=squared_error, max_depth=28;, score=-64.531 total time=   2.5s\n",
            "[CV 1/5] END criterion=squared_error, max_depth=29;, score=-60.292 total time=   2.5s\n",
            "[CV 2/5] END criterion=squared_error, max_depth=29;, score=-60.629 total time=   2.5s\n",
            "[CV 3/5] END criterion=squared_error, max_depth=29;, score=-64.088 total time=   2.5s\n",
            "[CV 4/5] END criterion=squared_error, max_depth=29;, score=-64.871 total time=   2.5s\n",
            "[CV 5/5] END criterion=squared_error, max_depth=29;, score=-64.389 total time=   2.5s\n",
            "[CV 1/5] END .criterion=poisson, max_depth=2;, score=-151.799 total time=   0.4s\n",
            "[CV 2/5] END .criterion=poisson, max_depth=2;, score=-152.373 total time=   0.4s\n",
            "[CV 3/5] END .criterion=poisson, max_depth=2;, score=-158.038 total time=   0.4s\n",
            "[CV 4/5] END .criterion=poisson, max_depth=2;, score=-152.908 total time=   0.4s\n",
            "[CV 5/5] END .criterion=poisson, max_depth=2;, score=-153.971 total time=   0.4s\n",
            "[CV 1/5] END .criterion=poisson, max_depth=3;, score=-150.649 total time=   0.6s\n",
            "[CV 2/5] END .criterion=poisson, max_depth=3;, score=-150.518 total time=   0.6s\n",
            "[CV 3/5] END .criterion=poisson, max_depth=3;, score=-157.078 total time=   0.6s\n",
            "[CV 4/5] END .criterion=poisson, max_depth=3;, score=-152.474 total time=   0.6s\n",
            "[CV 5/5] END .criterion=poisson, max_depth=3;, score=-152.384 total time=   0.6s\n",
            "[CV 1/5] END .criterion=poisson, max_depth=4;, score=-148.976 total time=   0.7s\n",
            "[CV 2/5] END .criterion=poisson, max_depth=4;, score=-147.865 total time=   0.7s\n",
            "[CV 3/5] END .criterion=poisson, max_depth=4;, score=-155.895 total time=   0.7s\n",
            "[CV 4/5] END .criterion=poisson, max_depth=4;, score=-151.460 total time=   0.7s\n",
            "[CV 5/5] END .criterion=poisson, max_depth=4;, score=-151.331 total time=   0.7s\n",
            "[CV 1/5] END .criterion=poisson, max_depth=5;, score=-146.961 total time=   0.8s\n",
            "[CV 2/5] END .criterion=poisson, max_depth=5;, score=-145.562 total time=   0.8s\n",
            "[CV 3/5] END .criterion=poisson, max_depth=5;, score=-154.417 total time=   0.9s\n",
            "[CV 4/5] END .criterion=poisson, max_depth=5;, score=-149.701 total time=   0.8s\n",
            "[CV 5/5] END .criterion=poisson, max_depth=5;, score=-150.695 total time=   0.8s\n",
            "[CV 1/5] END .criterion=poisson, max_depth=6;, score=-145.224 total time=   1.0s\n",
            "[CV 2/5] END .criterion=poisson, max_depth=6;, score=-143.922 total time=   1.0s\n",
            "[CV 3/5] END .criterion=poisson, max_depth=6;, score=-152.949 total time=   1.0s\n",
            "[CV 4/5] END .criterion=poisson, max_depth=6;, score=-148.071 total time=   1.0s\n",
            "[CV 5/5] END .criterion=poisson, max_depth=6;, score=-149.986 total time=   1.0s\n",
            "[CV 1/5] END .criterion=poisson, max_depth=7;, score=-143.918 total time=   1.1s\n",
            "[CV 2/5] END .criterion=poisson, max_depth=7;, score=-142.698 total time=   1.1s\n",
            "[CV 3/5] END .criterion=poisson, max_depth=7;, score=-151.546 total time=   1.1s\n",
            "[CV 4/5] END .criterion=poisson, max_depth=7;, score=-146.895 total time=   1.1s\n",
            "[CV 5/5] END .criterion=poisson, max_depth=7;, score=-148.752 total time=   1.1s\n",
            "[CV 1/5] END .criterion=poisson, max_depth=8;, score=-142.475 total time=   1.2s\n",
            "[CV 2/5] END .criterion=poisson, max_depth=8;, score=-141.676 total time=   1.2s\n",
            "[CV 3/5] END .criterion=poisson, max_depth=8;, score=-150.108 total time=   1.2s\n",
            "[CV 4/5] END .criterion=poisson, max_depth=8;, score=-145.655 total time=   1.2s\n",
            "[CV 5/5] END .criterion=poisson, max_depth=8;, score=-147.230 total time=   1.2s\n",
            "[CV 1/5] END .criterion=poisson, max_depth=9;, score=-141.199 total time=   1.4s\n",
            "[CV 2/5] END .criterion=poisson, max_depth=9;, score=-140.547 total time=   1.4s\n",
            "[CV 3/5] END .criterion=poisson, max_depth=9;, score=-148.636 total time=   1.4s\n",
            "[CV 4/5] END .criterion=poisson, max_depth=9;, score=-144.409 total time=   1.3s\n",
            "[CV 5/5] END .criterion=poisson, max_depth=9;, score=-145.714 total time=   1.4s\n",
            "[CV 1/5] END criterion=poisson, max_depth=10;, score=-139.723 total time=   1.5s\n",
            "[CV 2/5] END criterion=poisson, max_depth=10;, score=-139.572 total time=   1.5s\n",
            "[CV 3/5] END criterion=poisson, max_depth=10;, score=-147.026 total time=   1.5s\n",
            "[CV 4/5] END criterion=poisson, max_depth=10;, score=-143.531 total time=   1.5s\n",
            "[CV 5/5] END criterion=poisson, max_depth=10;, score=-143.999 total time=   1.5s\n",
            "[CV 1/5] END criterion=poisson, max_depth=11;, score=-138.278 total time=   1.6s\n",
            "[CV 2/5] END criterion=poisson, max_depth=11;, score=-138.713 total time=   1.6s\n",
            "[CV 3/5] END criterion=poisson, max_depth=11;, score=-145.412 total time=   1.6s\n",
            "[CV 4/5] END criterion=poisson, max_depth=11;, score=-142.700 total time=   1.6s\n",
            "[CV 5/5] END criterion=poisson, max_depth=11;, score=-142.315 total time=   1.6s\n",
            "[CV 1/5] END criterion=poisson, max_depth=12;, score=-136.859 total time=   1.8s\n",
            "[CV 2/5] END criterion=poisson, max_depth=12;, score=-137.947 total time=   1.8s\n",
            "[CV 3/5] END criterion=poisson, max_depth=12;, score=-143.777 total time=   1.8s\n",
            "[CV 4/5] END criterion=poisson, max_depth=12;, score=-141.925 total time=   1.8s\n",
            "[CV 5/5] END criterion=poisson, max_depth=12;, score=-140.385 total time=   1.8s\n",
            "[CV 1/5] END criterion=poisson, max_depth=13;, score=-135.398 total time=   1.9s\n",
            "[CV 2/5] END criterion=poisson, max_depth=13;, score=-137.102 total time=   1.9s\n",
            "[CV 3/5] END criterion=poisson, max_depth=13;, score=-141.723 total time=   1.9s\n",
            "[CV 4/5] END criterion=poisson, max_depth=13;, score=-140.889 total time=   1.9s\n",
            "[CV 5/5] END criterion=poisson, max_depth=13;, score=-138.417 total time=   1.9s\n",
            "[CV 1/5] END criterion=poisson, max_depth=14;, score=-133.689 total time=   2.0s\n",
            "[CV 2/5] END criterion=poisson, max_depth=14;, score=-135.903 total time=   2.0s\n",
            "[CV 3/5] END criterion=poisson, max_depth=14;, score=-139.670 total time=   2.0s\n",
            "[CV 4/5] END criterion=poisson, max_depth=14;, score=-139.830 total time=   2.0s\n",
            "[CV 5/5] END criterion=poisson, max_depth=14;, score=-135.971 total time=   2.0s\n",
            "[CV 1/5] END criterion=poisson, max_depth=15;, score=-131.700 total time=   2.1s\n",
            "[CV 2/5] END criterion=poisson, max_depth=15;, score=-134.580 total time=   2.2s\n",
            "[CV 3/5] END criterion=poisson, max_depth=15;, score=-137.436 total time=   2.2s\n",
            "[CV 4/5] END criterion=poisson, max_depth=15;, score=-138.131 total time=   2.2s\n",
            "[CV 5/5] END criterion=poisson, max_depth=15;, score=-133.295 total time=   2.2s\n",
            "[CV 1/5] END criterion=poisson, max_depth=16;, score=-129.709 total time=   2.3s\n",
            "[CV 2/5] END criterion=poisson, max_depth=16;, score=-133.020 total time=   2.3s\n",
            "[CV 3/5] END criterion=poisson, max_depth=16;, score=-134.098 total time=   2.3s\n",
            "[CV 4/5] END criterion=poisson, max_depth=16;, score=-136.140 total time=   2.3s\n",
            "[CV 5/5] END criterion=poisson, max_depth=16;, score=-130.752 total time=   2.3s\n",
            "[CV 1/5] END criterion=poisson, max_depth=17;, score=-127.565 total time=   2.4s\n",
            "[CV 2/5] END criterion=poisson, max_depth=17;, score=-130.754 total time=   2.4s\n",
            "[CV 3/5] END criterion=poisson, max_depth=17;, score=-130.289 total time=   2.4s\n",
            "[CV 4/5] END criterion=poisson, max_depth=17;, score=-133.817 total time=   2.4s\n",
            "[CV 5/5] END criterion=poisson, max_depth=17;, score=-127.322 total time=   2.4s\n",
            "[CV 1/5] END criterion=poisson, max_depth=18;, score=-124.774 total time=   2.6s\n",
            "[CV 2/5] END criterion=poisson, max_depth=18;, score=-127.848 total time=   2.6s\n",
            "[CV 3/5] END criterion=poisson, max_depth=18;, score=-127.117 total time=   2.6s\n",
            "[CV 4/5] END criterion=poisson, max_depth=18;, score=-131.133 total time=   2.6s\n",
            "[CV 5/5] END criterion=poisson, max_depth=18;, score=-123.995 total time=   2.6s\n",
            "[CV 1/5] END criterion=poisson, max_depth=19;, score=-121.546 total time=   2.7s\n",
            "[CV 2/5] END criterion=poisson, max_depth=19;, score=-125.271 total time=   2.7s\n",
            "[CV 3/5] END criterion=poisson, max_depth=19;, score=-123.210 total time=   2.7s\n",
            "[CV 4/5] END criterion=poisson, max_depth=19;, score=-127.823 total time=   2.7s\n",
            "[CV 5/5] END criterion=poisson, max_depth=19;, score=-121.031 total time=   2.7s\n",
            "[CV 1/5] END criterion=poisson, max_depth=20;, score=-118.031 total time=   2.8s\n",
            "[CV 2/5] END criterion=poisson, max_depth=20;, score=-121.170 total time=   2.8s\n",
            "[CV 3/5] END criterion=poisson, max_depth=20;, score=-119.352 total time=   2.8s\n",
            "[CV 4/5] END criterion=poisson, max_depth=20;, score=-124.419 total time=   2.9s\n",
            "[CV 5/5] END criterion=poisson, max_depth=20;, score=-117.756 total time=   2.8s\n",
            "[CV 1/5] END criterion=poisson, max_depth=21;, score=-114.649 total time=   3.0s\n",
            "[CV 2/5] END criterion=poisson, max_depth=21;, score=-117.218 total time=   3.0s\n",
            "[CV 3/5] END criterion=poisson, max_depth=21;, score=-116.093 total time=   3.0s\n",
            "[CV 4/5] END criterion=poisson, max_depth=21;, score=-120.944 total time=   3.0s\n",
            "[CV 5/5] END criterion=poisson, max_depth=21;, score=-114.364 total time=   3.0s\n",
            "[CV 1/5] END criterion=poisson, max_depth=22;, score=-111.228 total time=   3.1s\n",
            "[CV 2/5] END criterion=poisson, max_depth=22;, score=-113.540 total time=   3.1s\n",
            "[CV 3/5] END criterion=poisson, max_depth=22;, score=-112.005 total time=   3.1s\n",
            "[CV 4/5] END criterion=poisson, max_depth=22;, score=-116.880 total time=   3.1s\n",
            "[CV 5/5] END criterion=poisson, max_depth=22;, score=-110.831 total time=   3.1s\n",
            "[CV 1/5] END criterion=poisson, max_depth=23;, score=-108.019 total time=   3.2s\n",
            "[CV 2/5] END criterion=poisson, max_depth=23;, score=-109.984 total time=   3.2s\n",
            "[CV 3/5] END criterion=poisson, max_depth=23;, score=-108.950 total time=   3.4s\n",
            "[CV 4/5] END criterion=poisson, max_depth=23;, score=-113.514 total time=   3.2s\n",
            "[CV 5/5] END criterion=poisson, max_depth=23;, score=-108.311 total time=   3.2s\n",
            "[CV 1/5] END criterion=poisson, max_depth=24;, score=-104.583 total time=   3.3s\n",
            "[CV 2/5] END criterion=poisson, max_depth=24;, score=-107.533 total time=   3.4s\n",
            "[CV 3/5] END criterion=poisson, max_depth=24;, score=-106.379 total time=   3.4s\n",
            "[CV 4/5] END criterion=poisson, max_depth=24;, score=-110.973 total time=   3.4s\n",
            "[CV 5/5] END criterion=poisson, max_depth=24;, score=-106.434 total time=   3.4s\n",
            "[CV 1/5] END criterion=poisson, max_depth=25;, score=-101.507 total time=   3.5s\n",
            "[CV 2/5] END criterion=poisson, max_depth=25;, score=-105.046 total time=   3.5s\n",
            "[CV 3/5] END criterion=poisson, max_depth=25;, score=-104.240 total time=   3.5s\n",
            "[CV 4/5] END criterion=poisson, max_depth=25;, score=-109.068 total time=   3.5s\n",
            "[CV 5/5] END criterion=poisson, max_depth=25;, score=-105.114 total time=   3.5s\n",
            "[CV 1/5] END .criterion=poisson, max_depth=26;, score=-99.294 total time=   3.6s\n",
            "[CV 2/5] END criterion=poisson, max_depth=26;, score=-102.859 total time=   3.7s\n",
            "[CV 3/5] END criterion=poisson, max_depth=26;, score=-102.485 total time=   3.6s\n",
            "[CV 4/5] END criterion=poisson, max_depth=26;, score=-107.319 total time=   3.6s\n",
            "[CV 5/5] END criterion=poisson, max_depth=26;, score=-103.571 total time=   3.6s\n",
            "[CV 1/5] END .criterion=poisson, max_depth=27;, score=-97.802 total time=   3.7s\n",
            "[CV 2/5] END criterion=poisson, max_depth=27;, score=-101.315 total time=   3.8s\n",
            "[CV 3/5] END criterion=poisson, max_depth=27;, score=-100.844 total time=   3.8s\n",
            "[CV 4/5] END criterion=poisson, max_depth=27;, score=-105.208 total time=   3.8s\n",
            "[CV 5/5] END criterion=poisson, max_depth=27;, score=-102.256 total time=   3.8s\n",
            "[CV 1/5] END .criterion=poisson, max_depth=28;, score=-96.178 total time=   3.9s\n",
            "[CV 2/5] END criterion=poisson, max_depth=28;, score=-100.074 total time=   3.9s\n",
            "[CV 3/5] END .criterion=poisson, max_depth=28;, score=-99.588 total time=   4.0s\n",
            "[CV 4/5] END criterion=poisson, max_depth=28;, score=-104.090 total time=   3.9s\n",
            "[CV 5/5] END criterion=poisson, max_depth=28;, score=-101.425 total time=   3.9s\n",
            "[CV 1/5] END .criterion=poisson, max_depth=29;, score=-95.311 total time=   4.0s\n",
            "[CV 2/5] END .criterion=poisson, max_depth=29;, score=-98.860 total time=   4.1s\n",
            "[CV 3/5] END .criterion=poisson, max_depth=29;, score=-98.444 total time=   4.1s\n",
            "[CV 4/5] END criterion=poisson, max_depth=29;, score=-103.304 total time=   4.0s\n",
            "[CV 5/5] END criterion=poisson, max_depth=29;, score=-100.961 total time=   4.0s\n"
          ]
        },
        {
          "output_type": "execute_result",
          "data": {
            "text/plain": [
              "GridSearchCV(cv=5, estimator=RandomForestRegressor(random_state=7),\n",
              "             param_grid={'criterion': ['squared_error', 'poisson'],\n",
              "                         'max_depth': range(2, 30)},\n",
              "             scoring='neg_root_mean_squared_error', verbose=4)"
            ]
          },
          "metadata": {},
          "execution_count": 68
        }
      ]
    },
    {
      "cell_type": "code",
      "source": [
        "print(grid_cv.best_params_)\n",
        "print(grid_cv.best_score_)"
      ],
      "metadata": {
        "colab": {
          "base_uri": "https://localhost:8080/"
        },
        "id": "dXjsgrLMjlbH",
        "outputId": "518e3e96-6146-43ca-be8e-1b24e510e19d"
      },
      "execution_count": null,
      "outputs": [
        {
          "output_type": "stream",
          "name": "stdout",
          "text": [
            "{'criterion': 'squared_error', 'max_depth': 21}\n",
            "-62.81896374655188\n"
          ]
        }
      ]
    },
    {
      "cell_type": "markdown",
      "source": [
        "### Customising the parameters according to GridSearchCV"
      ],
      "metadata": {
        "id": "hs1POkFVirqh"
      }
    },
    {
      "cell_type": "code",
      "source": [
        "from sklearn.ensemble import RandomForestRegressor\n",
        "rfr=RandomForestRegressor(n_estimators=100, criterion='squared_error', max_depth=21)\n",
        "rfr.fit(X_train, y_train)"
      ],
      "metadata": {
        "colab": {
          "base_uri": "https://localhost:8080/"
        },
        "id": "lJeFxY8wn2u1",
        "outputId": "48a645a7-0f6b-4f63-fa73-b1a50eb0ca70"
      },
      "execution_count": null,
      "outputs": [
        {
          "output_type": "execute_result",
          "data": {
            "text/plain": [
              "RandomForestRegressor(max_depth=21)"
            ]
          },
          "metadata": {},
          "execution_count": 62
        }
      ]
    },
    {
      "cell_type": "code",
      "source": [
        "y_pred=rfr.predict(X_test)\n",
        "from sklearn.metrics import mean_squared_error\n",
        "mse_rf_bag= mean_squared_error(y_test, y_pred)\n",
        "rmse_rf_bag=mse_rf_bag**0.5\n",
        "rmse_rf_bag"
      ],
      "metadata": {
        "colab": {
          "base_uri": "https://localhost:8080/"
        },
        "id": "FT2wMkQ8oGIL",
        "outputId": "835ff4e8-3e59-426a-e887-8ace4239e609"
      },
      "execution_count": null,
      "outputs": [
        {
          "output_type": "execute_result",
          "data": {
            "text/plain": [
              "58.64021653649202"
            ]
          },
          "metadata": {},
          "execution_count": 65
        }
      ]
    },
    {
      "cell_type": "markdown",
      "source": [
        "# Test Data"
      ],
      "metadata": {
        "id": "K95R-PFTh6Hb"
      }
    },
    {
      "cell_type": "markdown",
      "source": [
        "## Importing the test_data"
      ],
      "metadata": {
        "id": "__3wa-AbkTG0"
      }
    },
    {
      "cell_type": "code",
      "source": [
        "data=pd.read_csv(\"test.csv\")\n",
        "data1=pd.read_csv(\"test_label.csv\", header=None)"
      ],
      "metadata": {
        "id": "4yzaxUMdh5vO"
      },
      "execution_count": null,
      "outputs": []
    },
    {
      "cell_type": "code",
      "source": [
        "print(data.shape)\n",
        "print(data1.shape)"
      ],
      "metadata": {
        "colab": {
          "base_uri": "https://localhost:8080/"
        },
        "id": "B44cKxKtjw-6",
        "outputId": "78a5afb4-0b92-4bd1-f4e7-e7a702da42b9"
      },
      "execution_count": null,
      "outputs": [
        {
          "output_type": "stream",
          "name": "stdout",
          "text": [
            "(2178, 9)\n",
            "(2178, 1)\n"
          ]
        }
      ]
    },
    {
      "cell_type": "code",
      "source": [
        "data['total_bookings']=data1"
      ],
      "metadata": {
        "id": "iT4Drmi6jizg"
      },
      "execution_count": null,
      "outputs": []
    },
    {
      "cell_type": "code",
      "source": [
        "data.head(1)"
      ],
      "metadata": {
        "colab": {
          "base_uri": "https://localhost:8080/",
          "height": 81
        },
        "id": "ylfaZ9iGj53g",
        "outputId": "ca9edd7a-fe7c-4f6c-dfa7-48c1165ee3bf"
      },
      "execution_count": null,
      "outputs": [
        {
          "output_type": "execute_result",
          "data": {
            "text/html": [
              "\n",
              "  <div id=\"df-26fae656-34a7-4d76-8fb4-30ad7b4790f2\">\n",
              "    <div class=\"colab-df-container\">\n",
              "      <div>\n",
              "<style scoped>\n",
              "    .dataframe tbody tr th:only-of-type {\n",
              "        vertical-align: middle;\n",
              "    }\n",
              "\n",
              "    .dataframe tbody tr th {\n",
              "        vertical-align: top;\n",
              "    }\n",
              "\n",
              "    .dataframe thead th {\n",
              "        text-align: right;\n",
              "    }\n",
              "</style>\n",
              "<table border=\"1\" class=\"dataframe\">\n",
              "  <thead>\n",
              "    <tr style=\"text-align: right;\">\n",
              "      <th></th>\n",
              "      <th>datetime</th>\n",
              "      <th>season</th>\n",
              "      <th>holiday</th>\n",
              "      <th>workingday</th>\n",
              "      <th>weather</th>\n",
              "      <th>temp</th>\n",
              "      <th>atemp</th>\n",
              "      <th>humidity</th>\n",
              "      <th>windspeed</th>\n",
              "      <th>total_bookings</th>\n",
              "    </tr>\n",
              "  </thead>\n",
              "  <tbody>\n",
              "    <tr>\n",
              "      <th>0</th>\n",
              "      <td>5/10/2012 11:00</td>\n",
              "      <td>Summer</td>\n",
              "      <td>0</td>\n",
              "      <td>1</td>\n",
              "      <td>Clear + Few clouds</td>\n",
              "      <td>21.32</td>\n",
              "      <td>25.0</td>\n",
              "      <td>48</td>\n",
              "      <td>35.0008</td>\n",
              "      <td>256</td>\n",
              "    </tr>\n",
              "  </tbody>\n",
              "</table>\n",
              "</div>\n",
              "      <button class=\"colab-df-convert\" onclick=\"convertToInteractive('df-26fae656-34a7-4d76-8fb4-30ad7b4790f2')\"\n",
              "              title=\"Convert this dataframe to an interactive table.\"\n",
              "              style=\"display:none;\">\n",
              "        \n",
              "  <svg xmlns=\"http://www.w3.org/2000/svg\" height=\"24px\"viewBox=\"0 0 24 24\"\n",
              "       width=\"24px\">\n",
              "    <path d=\"M0 0h24v24H0V0z\" fill=\"none\"/>\n",
              "    <path d=\"M18.56 5.44l.94 2.06.94-2.06 2.06-.94-2.06-.94-.94-2.06-.94 2.06-2.06.94zm-11 1L8.5 8.5l.94-2.06 2.06-.94-2.06-.94L8.5 2.5l-.94 2.06-2.06.94zm10 10l.94 2.06.94-2.06 2.06-.94-2.06-.94-.94-2.06-.94 2.06-2.06.94z\"/><path d=\"M17.41 7.96l-1.37-1.37c-.4-.4-.92-.59-1.43-.59-.52 0-1.04.2-1.43.59L10.3 9.45l-7.72 7.72c-.78.78-.78 2.05 0 2.83L4 21.41c.39.39.9.59 1.41.59.51 0 1.02-.2 1.41-.59l7.78-7.78 2.81-2.81c.8-.78.8-2.07 0-2.86zM5.41 20L4 18.59l7.72-7.72 1.47 1.35L5.41 20z\"/>\n",
              "  </svg>\n",
              "      </button>\n",
              "      \n",
              "  <style>\n",
              "    .colab-df-container {\n",
              "      display:flex;\n",
              "      flex-wrap:wrap;\n",
              "      gap: 12px;\n",
              "    }\n",
              "\n",
              "    .colab-df-convert {\n",
              "      background-color: #E8F0FE;\n",
              "      border: none;\n",
              "      border-radius: 50%;\n",
              "      cursor: pointer;\n",
              "      display: none;\n",
              "      fill: #1967D2;\n",
              "      height: 32px;\n",
              "      padding: 0 0 0 0;\n",
              "      width: 32px;\n",
              "    }\n",
              "\n",
              "    .colab-df-convert:hover {\n",
              "      background-color: #E2EBFA;\n",
              "      box-shadow: 0px 1px 2px rgba(60, 64, 67, 0.3), 0px 1px 3px 1px rgba(60, 64, 67, 0.15);\n",
              "      fill: #174EA6;\n",
              "    }\n",
              "\n",
              "    [theme=dark] .colab-df-convert {\n",
              "      background-color: #3B4455;\n",
              "      fill: #D2E3FC;\n",
              "    }\n",
              "\n",
              "    [theme=dark] .colab-df-convert:hover {\n",
              "      background-color: #434B5C;\n",
              "      box-shadow: 0px 1px 3px 1px rgba(0, 0, 0, 0.15);\n",
              "      filter: drop-shadow(0px 1px 2px rgba(0, 0, 0, 0.3));\n",
              "      fill: #FFFFFF;\n",
              "    }\n",
              "  </style>\n",
              "\n",
              "      <script>\n",
              "        const buttonEl =\n",
              "          document.querySelector('#df-26fae656-34a7-4d76-8fb4-30ad7b4790f2 button.colab-df-convert');\n",
              "        buttonEl.style.display =\n",
              "          google.colab.kernel.accessAllowed ? 'block' : 'none';\n",
              "\n",
              "        async function convertToInteractive(key) {\n",
              "          const element = document.querySelector('#df-26fae656-34a7-4d76-8fb4-30ad7b4790f2');\n",
              "          const dataTable =\n",
              "            await google.colab.kernel.invokeFunction('convertToInteractive',\n",
              "                                                     [key], {});\n",
              "          if (!dataTable) return;\n",
              "\n",
              "          const docLinkHtml = 'Like what you see? Visit the ' +\n",
              "            '<a target=\"_blank\" href=https://colab.research.google.com/notebooks/data_table.ipynb>data table notebook</a>'\n",
              "            + ' to learn more about interactive tables.';\n",
              "          element.innerHTML = '';\n",
              "          dataTable['output_type'] = 'display_data';\n",
              "          await google.colab.output.renderOutput(dataTable, element);\n",
              "          const docLink = document.createElement('div');\n",
              "          docLink.innerHTML = docLinkHtml;\n",
              "          element.appendChild(docLink);\n",
              "        }\n",
              "      </script>\n",
              "    </div>\n",
              "  </div>\n",
              "  "
            ],
            "text/plain": [
              "          datetime  season  holiday  ...  humidity windspeed  total_bookings\n",
              "0  5/10/2012 11:00  Summer        0  ...        48   35.0008             256\n",
              "\n",
              "[1 rows x 10 columns]"
            ]
          },
          "metadata": {},
          "execution_count": 75
        }
      ]
    },
    {
      "cell_type": "markdown",
      "source": [
        "## Type of data, checking empty values and duplicates"
      ],
      "metadata": {
        "id": "xEs7u2UzkZGT"
      }
    },
    {
      "cell_type": "code",
      "source": [
        "data.info()"
      ],
      "metadata": {
        "colab": {
          "base_uri": "https://localhost:8080/"
        },
        "id": "oOyQWqqpkoEO",
        "outputId": "0b1265df-87d7-4ea2-9601-c4163e0801ec"
      },
      "execution_count": null,
      "outputs": [
        {
          "output_type": "stream",
          "name": "stdout",
          "text": [
            "<class 'pandas.core.frame.DataFrame'>\n",
            "RangeIndex: 2178 entries, 0 to 2177\n",
            "Data columns (total 10 columns):\n",
            " #   Column          Non-Null Count  Dtype  \n",
            "---  ------          --------------  -----  \n",
            " 0   datetime        2178 non-null   object \n",
            " 1   season          2178 non-null   object \n",
            " 2   holiday         2178 non-null   int64  \n",
            " 3   workingday      2178 non-null   int64  \n",
            " 4   weather         2178 non-null   object \n",
            " 5   temp            2178 non-null   float64\n",
            " 6   atemp           2178 non-null   float64\n",
            " 7   humidity        2178 non-null   int64  \n",
            " 8   windspeed       2178 non-null   float64\n",
            " 9   total_bookings  2178 non-null   int64  \n",
            "dtypes: float64(3), int64(4), object(3)\n",
            "memory usage: 170.3+ KB\n"
          ]
        }
      ]
    },
    {
      "cell_type": "code",
      "source": [
        "data.isna().any()"
      ],
      "metadata": {
        "colab": {
          "base_uri": "https://localhost:8080/"
        },
        "id": "LrRXouEbksTi",
        "outputId": "149c57e3-f197-4ba0-bb03-8961551fee41"
      },
      "execution_count": null,
      "outputs": [
        {
          "output_type": "execute_result",
          "data": {
            "text/plain": [
              "datetime          False\n",
              "season            False\n",
              "holiday           False\n",
              "workingday        False\n",
              "weather           False\n",
              "temp              False\n",
              "atemp             False\n",
              "humidity          False\n",
              "windspeed         False\n",
              "total_bookings    False\n",
              "dtype: bool"
            ]
          },
          "metadata": {},
          "execution_count": 77
        }
      ]
    },
    {
      "cell_type": "code",
      "source": [
        "data.duplicated().any()"
      ],
      "metadata": {
        "colab": {
          "base_uri": "https://localhost:8080/"
        },
        "id": "Te1EwbT2kw_c",
        "outputId": "660f54bf-e9ec-432b-ed30-1f52a4674884"
      },
      "execution_count": null,
      "outputs": [
        {
          "output_type": "execute_result",
          "data": {
            "text/plain": [
              "False"
            ]
          },
          "metadata": {},
          "execution_count": 78
        }
      ]
    },
    {
      "cell_type": "markdown",
      "source": [
        "## Extracting the datetime features"
      ],
      "metadata": {
        "id": "7vC4WyLWlduO"
      }
    },
    {
      "cell_type": "code",
      "source": [
        "data['datetime']=pd.to_datetime(data['datetime'])\n",
        "data[\"weekday\"]= data['datetime'].dt.day_name()\n",
        "data[\"dates\"] =data['datetime'].dt.date\n",
        "data[\"hour\"]= data['datetime'].dt.hour\n",
        "data[\"month\"]=data['datetime'].dt.month_name()"
      ],
      "metadata": {
        "id": "VaeaOuNZliRp"
      },
      "execution_count": null,
      "outputs": []
    },
    {
      "cell_type": "code",
      "source": [
        "data=data[['datetime', 'dates','hour','weekday', 'month', 'season', 'holiday', 'workingday', 'weather', 'temp', 'atemp', 'humidity',\t'windspeed','total_bookings']]"
      ],
      "metadata": {
        "id": "XfqHgSFymKjw"
      },
      "execution_count": null,
      "outputs": []
    },
    {
      "cell_type": "code",
      "source": [
        "data.head(1)"
      ],
      "metadata": {
        "colab": {
          "base_uri": "https://localhost:8080/",
          "height": 179
        },
        "id": "dZ19LbVbmQr9",
        "outputId": "733bb61f-d5f4-457a-da5c-2f8d611135d7"
      },
      "execution_count": null,
      "outputs": [
        {
          "output_type": "execute_result",
          "data": {
            "text/html": [
              "\n",
              "  <div id=\"df-b46c48a4-011a-4381-bba0-6e8454057b6a\">\n",
              "    <div class=\"colab-df-container\">\n",
              "      <div>\n",
              "<style scoped>\n",
              "    .dataframe tbody tr th:only-of-type {\n",
              "        vertical-align: middle;\n",
              "    }\n",
              "\n",
              "    .dataframe tbody tr th {\n",
              "        vertical-align: top;\n",
              "    }\n",
              "\n",
              "    .dataframe thead th {\n",
              "        text-align: right;\n",
              "    }\n",
              "</style>\n",
              "<table border=\"1\" class=\"dataframe\">\n",
              "  <thead>\n",
              "    <tr style=\"text-align: right;\">\n",
              "      <th></th>\n",
              "      <th>datetime</th>\n",
              "      <th>dates</th>\n",
              "      <th>hour</th>\n",
              "      <th>weekday</th>\n",
              "      <th>month</th>\n",
              "      <th>season</th>\n",
              "      <th>holiday</th>\n",
              "      <th>workingday</th>\n",
              "      <th>weather</th>\n",
              "      <th>temp</th>\n",
              "      <th>atemp</th>\n",
              "      <th>humidity</th>\n",
              "      <th>windspeed</th>\n",
              "      <th>total_bookings</th>\n",
              "    </tr>\n",
              "  </thead>\n",
              "  <tbody>\n",
              "    <tr>\n",
              "      <th>0</th>\n",
              "      <td>2012-05-10 11:00:00</td>\n",
              "      <td>2012-05-10</td>\n",
              "      <td>11</td>\n",
              "      <td>Thursday</td>\n",
              "      <td>May</td>\n",
              "      <td>Summer</td>\n",
              "      <td>0</td>\n",
              "      <td>1</td>\n",
              "      <td>Clear + Few clouds</td>\n",
              "      <td>21.32</td>\n",
              "      <td>25.0</td>\n",
              "      <td>48</td>\n",
              "      <td>35.0008</td>\n",
              "      <td>256</td>\n",
              "    </tr>\n",
              "  </tbody>\n",
              "</table>\n",
              "</div>\n",
              "      <button class=\"colab-df-convert\" onclick=\"convertToInteractive('df-b46c48a4-011a-4381-bba0-6e8454057b6a')\"\n",
              "              title=\"Convert this dataframe to an interactive table.\"\n",
              "              style=\"display:none;\">\n",
              "        \n",
              "  <svg xmlns=\"http://www.w3.org/2000/svg\" height=\"24px\"viewBox=\"0 0 24 24\"\n",
              "       width=\"24px\">\n",
              "    <path d=\"M0 0h24v24H0V0z\" fill=\"none\"/>\n",
              "    <path d=\"M18.56 5.44l.94 2.06.94-2.06 2.06-.94-2.06-.94-.94-2.06-.94 2.06-2.06.94zm-11 1L8.5 8.5l.94-2.06 2.06-.94-2.06-.94L8.5 2.5l-.94 2.06-2.06.94zm10 10l.94 2.06.94-2.06 2.06-.94-2.06-.94-.94-2.06-.94 2.06-2.06.94z\"/><path d=\"M17.41 7.96l-1.37-1.37c-.4-.4-.92-.59-1.43-.59-.52 0-1.04.2-1.43.59L10.3 9.45l-7.72 7.72c-.78.78-.78 2.05 0 2.83L4 21.41c.39.39.9.59 1.41.59.51 0 1.02-.2 1.41-.59l7.78-7.78 2.81-2.81c.8-.78.8-2.07 0-2.86zM5.41 20L4 18.59l7.72-7.72 1.47 1.35L5.41 20z\"/>\n",
              "  </svg>\n",
              "      </button>\n",
              "      \n",
              "  <style>\n",
              "    .colab-df-container {\n",
              "      display:flex;\n",
              "      flex-wrap:wrap;\n",
              "      gap: 12px;\n",
              "    }\n",
              "\n",
              "    .colab-df-convert {\n",
              "      background-color: #E8F0FE;\n",
              "      border: none;\n",
              "      border-radius: 50%;\n",
              "      cursor: pointer;\n",
              "      display: none;\n",
              "      fill: #1967D2;\n",
              "      height: 32px;\n",
              "      padding: 0 0 0 0;\n",
              "      width: 32px;\n",
              "    }\n",
              "\n",
              "    .colab-df-convert:hover {\n",
              "      background-color: #E2EBFA;\n",
              "      box-shadow: 0px 1px 2px rgba(60, 64, 67, 0.3), 0px 1px 3px 1px rgba(60, 64, 67, 0.15);\n",
              "      fill: #174EA6;\n",
              "    }\n",
              "\n",
              "    [theme=dark] .colab-df-convert {\n",
              "      background-color: #3B4455;\n",
              "      fill: #D2E3FC;\n",
              "    }\n",
              "\n",
              "    [theme=dark] .colab-df-convert:hover {\n",
              "      background-color: #434B5C;\n",
              "      box-shadow: 0px 1px 3px 1px rgba(0, 0, 0, 0.15);\n",
              "      filter: drop-shadow(0px 1px 2px rgba(0, 0, 0, 0.3));\n",
              "      fill: #FFFFFF;\n",
              "    }\n",
              "  </style>\n",
              "\n",
              "      <script>\n",
              "        const buttonEl =\n",
              "          document.querySelector('#df-b46c48a4-011a-4381-bba0-6e8454057b6a button.colab-df-convert');\n",
              "        buttonEl.style.display =\n",
              "          google.colab.kernel.accessAllowed ? 'block' : 'none';\n",
              "\n",
              "        async function convertToInteractive(key) {\n",
              "          const element = document.querySelector('#df-b46c48a4-011a-4381-bba0-6e8454057b6a');\n",
              "          const dataTable =\n",
              "            await google.colab.kernel.invokeFunction('convertToInteractive',\n",
              "                                                     [key], {});\n",
              "          if (!dataTable) return;\n",
              "\n",
              "          const docLinkHtml = 'Like what you see? Visit the ' +\n",
              "            '<a target=\"_blank\" href=https://colab.research.google.com/notebooks/data_table.ipynb>data table notebook</a>'\n",
              "            + ' to learn more about interactive tables.';\n",
              "          element.innerHTML = '';\n",
              "          dataTable['output_type'] = 'display_data';\n",
              "          await google.colab.output.renderOutput(dataTable, element);\n",
              "          const docLink = document.createElement('div');\n",
              "          docLink.innerHTML = docLinkHtml;\n",
              "          element.appendChild(docLink);\n",
              "        }\n",
              "      </script>\n",
              "    </div>\n",
              "  </div>\n",
              "  "
            ],
            "text/plain": [
              "             datetime       dates  hour  ... humidity windspeed total_bookings\n",
              "0 2012-05-10 11:00:00  2012-05-10    11  ...       48   35.0008            256\n",
              "\n",
              "[1 rows x 14 columns]"
            ]
          },
          "metadata": {},
          "execution_count": 13
        }
      ]
    },
    {
      "cell_type": "markdown",
      "source": [
        "##Outliers"
      ],
      "metadata": {
        "id": "SoVVXYdomYz4"
      }
    },
    {
      "cell_type": "code",
      "source": [
        "data.boxplot()\n",
        "plt.show()"
      ],
      "metadata": {
        "colab": {
          "base_uri": "https://localhost:8080/",
          "height": 266
        },
        "id": "tajkuWRAmWkA",
        "outputId": "a92f046a-c30a-4af5-f7b3-6e75a4945316"
      },
      "execution_count": null,
      "outputs": [
        {
          "output_type": "display_data",
          "data": {
            "image/png": "[encoded data removed]",
            "text/plain": [
              "<Figure size 432x288 with 1 Axes>"
            ]
          },
          "metadata": {
            "needs_background": "light"
          }
        }
      ]
    },
    {
      "cell_type": "code",
      "source": [
        "Q1=data['total_bookings'].quantile(0.25)\n",
        "Q3=data['total_bookings'].quantile(0.75)\n",
        "IQR=Q3-Q1"
      ],
      "metadata": {
        "id": "syEvffPrmvij"
      },
      "execution_count": null,
      "outputs": []
    },
    {
      "cell_type": "code",
      "source": [
        "outlier=data[(data['total_bookings']>(Q3+1.5*IQR)) | (data['total_bookings']<(Q1-1.5*IQR))]"
      ],
      "metadata": {
        "id": "664rBx61m7_X"
      },
      "execution_count": null,
      "outputs": []
    },
    {
      "cell_type": "code",
      "source": [
        "outlier.shape"
      ],
      "metadata": {
        "id": "B5O4ZDyUnqhM",
        "colab": {
          "base_uri": "https://localhost:8080/"
        },
        "outputId": "23aa1a39-b545-4bf4-f2bc-d15e8e1dfe83"
      },
      "execution_count": null,
      "outputs": [
        {
          "output_type": "execute_result",
          "data": {
            "text/plain": [
              "(62, 14)"
            ]
          },
          "metadata": {},
          "execution_count": 18
        }
      ]
    },
    {
      "cell_type": "code",
      "source": [
        "data.drop(list(outlier.index), axis=0, inplace=True)"
      ],
      "metadata": {
        "id": "iGl3N0Y9nI3_"
      },
      "execution_count": null,
      "outputs": []
    },
    {
      "cell_type": "code",
      "source": [
        "df.boxplot(['windspeed','total_bookings'])\n",
        "plt.show()"
      ],
      "metadata": {
        "colab": {
          "base_uri": "https://localhost:8080/",
          "height": 266
        },
        "id": "pVmku5QOn0NU",
        "outputId": "e716b35f-ef80-4466-df0d-4ad9429bc43a"
      },
      "execution_count": null,
      "outputs": [
        {
          "output_type": "display_data",
          "data": {
            "image/png": "[encoded data removed]",
            "text/plain": [
              "<Figure size 432x288 with 1 Axes>"
            ]
          },
          "metadata": {
            "needs_background": "light"
          }
        }
      ]
    },
    {
      "cell_type": "markdown",
      "source": [
        "##Correaltion Analysis and Probability plot"
      ],
      "metadata": {
        "id": "wHzTLa1CoCbh"
      }
    },
    {
      "cell_type": "code",
      "source": [
        "corr=data.corr()"
      ],
      "metadata": {
        "id": "b-SfjbGXn94u"
      },
      "execution_count": null,
      "outputs": []
    },
    {
      "cell_type": "code",
      "source": [
        "corr"
      ],
      "metadata": {
        "id": "w2uRcnvukLkh"
      },
      "execution_count": null,
      "outputs": []
    },
    {
      "cell_type": "code",
      "source": [
        "sns.heatmap(corr)\n",
        "plt.show()"
      ],
      "metadata": {
        "colab": {
          "base_uri": "https://localhost:8080/",
          "height": 332
        },
        "id": "7ST13nwkoMTP",
        "outputId": "73c97211-225d-462a-bda2-09cd4b4ff9ae"
      },
      "execution_count": null,
      "outputs": [
        {
          "output_type": "display_data",
          "data": {
            "image/png": "[encoded data removed]",
            "text/plain": [
              "<Figure size 432x288 with 2 Axes>"
            ]
          },
          "metadata": {
            "needs_background": "light"
          }
        }
      ]
    },
    {
      "cell_type": "markdown",
      "source": [
        "From above plot and table, it can be observed that\n",
        "\n",
        "1. \"hours\" and number_of_booking is significantly &positively correlated with each other.\n",
        "2. Humidity and number of bookings is negatively correlated \n",
        "3. atemp & temp are strongly correlated with each other!\n",
        "4. Other variables are very weakly correlated with bookings & each other"
      ],
      "metadata": {
        "id": "TdUwuF1tmGcc"
      }
    },
    {
      "cell_type": "code",
      "source": [
        "sns.distplot(data['total_bookings'], norm_hist=True)\n",
        "plt.ylabel('Probability')\n",
        "plt.show()"
      ],
      "metadata": {
        "colab": {
          "base_uri": "https://localhost:8080/",
          "height": 280
        },
        "id": "A5UvTNnmqmIK",
        "outputId": "6f90c76b-34a6-4556-b76d-0bf859f69ec7"
      },
      "execution_count": null,
      "outputs": [
        {
          "output_type": "display_data",
          "data": {
            "image/png": "[encoded data removed]",
            "text/plain": [
              "<Figure size 432x288 with 1 Axes>"
            ]
          },
          "metadata": {
            "needs_background": "light"
          }
        }
      ]
    },
    {
      "cell_type": "markdown",
      "source": [
        "## Scatter-plots & Histograms"
      ],
      "metadata": {
        "id": "NM_16KElq7GK"
      }
    },
    {
      "cell_type": "markdown",
      "source": [
        "**Scatterplots**"
      ],
      "metadata": {
        "id": "6NfrX0rnhMFI"
      }
    },
    {
      "cell_type": "code",
      "source": [
        "fig, ax=plt.subplots(figsize=(13,6))\n",
        "sns.scatterplot(data=data, x='month', y='total_bookings')\n",
        "plt.title(\"Month v/s Total Bookings\")\n",
        "plt.show()"
      ],
      "metadata": {
        "colab": {
          "base_uri": "https://localhost:8080/",
          "height": 404
        },
        "id": "mdYCxNnFq7c_",
        "outputId": "26ccd70b-08b1-4eb6-a068-c06f8439a567"
      },
      "execution_count": null,
      "outputs": [
        {
          "output_type": "display_data",
          "data": {
            "image/png": "[encoded data removed]",
            "text/plain": [
              "<Figure size 936x432 with 1 Axes>"
            ]
          },
          "metadata": {
            "needs_background": "light"
          }
        }
      ]
    },
    {
      "cell_type": "code",
      "source": [
        "sns.scatterplot(data=data, x='season', y='total_bookings')\n",
        "plt.title(\"Season v/s Total Bookings\")\n",
        "plt.show()"
      ],
      "metadata": {
        "colab": {
          "base_uri": "https://localhost:8080/",
          "height": 295
        },
        "id": "WhIEOJlPrQ2q",
        "outputId": "ba855c1e-682f-4cc0-fe38-ce81719ee41c"
      },
      "execution_count": null,
      "outputs": [
        {
          "output_type": "display_data",
          "data": {
            "image/png": "[encoded data removed]",
            "text/plain": [
              "<Figure size 432x288 with 1 Axes>"
            ]
          },
          "metadata": {
            "needs_background": "light"
          }
        }
      ]
    },
    {
      "cell_type": "code",
      "source": [
        "fig, ax=plt.subplots(figsize=(10,6))\n",
        "sns.scatterplot(data=data, x='weekday', y='total_bookings')\n",
        "plt.title(\"Weekday v/s Total Bookings\")\n",
        "plt.show()"
      ],
      "metadata": {
        "colab": {
          "base_uri": "https://localhost:8080/",
          "height": 404
        },
        "id": "k_6Pcf6BrdBD",
        "outputId": "2c89f043-0be5-4ae9-993c-a51a82b26e76"
      },
      "execution_count": null,
      "outputs": [
        {
          "output_type": "display_data",
          "data": {
            "image/png": "[encoded data removed]",
            "text/plain": [
              "<Figure size 720x432 with 1 Axes>"
            ]
          },
          "metadata": {
            "needs_background": "light"
          }
        }
      ]
    },
    {
      "cell_type": "code",
      "source": [
        "fig, ax=plt.subplots(figsize=(10,6))\n",
        "sns.scatterplot(data=data, x='hour', y='total_bookings')\n",
        "plt.title(\"Hour v/s Total Bookings\")\n",
        "plt.show()"
      ],
      "metadata": {
        "colab": {
          "base_uri": "https://localhost:8080/",
          "height": 404
        },
        "id": "VYHmlO5_ruog",
        "outputId": "865f1c11-749a-4a63-b400-4afb00ce07b6"
      },
      "execution_count": null,
      "outputs": [
        {
          "output_type": "display_data",
          "data": {
            "image/png": "[encoded data removed]",
            "text/plain": [
              "<Figure size 720x432 with 1 Axes>"
            ]
          },
          "metadata": {
            "needs_background": "light"
          }
        }
      ]
    },
    {
      "cell_type": "markdown",
      "source": [
        "**Histograms**"
      ],
      "metadata": {
        "id": "_u8mgJ1Mr8an"
      }
    },
    {
      "cell_type": "code",
      "source": [
        "sns.distplot(data['temp'], kde=False)\n",
        "plt.title(\"Histogram of Temp\")\n",
        "plt.ylabel('Frequency')\n",
        "plt.show()"
      ],
      "metadata": {
        "colab": {
          "base_uri": "https://localhost:8080/",
          "height": 295
        },
        "id": "AjNxzOZpr-r4",
        "outputId": "0aefbd6e-d1a1-4fa1-82c2-6d960266d3fb"
      },
      "execution_count": null,
      "outputs": [
        {
          "output_type": "display_data",
          "data": {
            "image/png": "[encoded data removed]",
            "text/plain": [
              "<Figure size 432x288 with 1 Axes>"
            ]
          },
          "metadata": {
            "needs_background": "light"
          }
        }
      ]
    },
    {
      "cell_type": "code",
      "source": [
        "sns.distplot(data['atemp'], kde=False)\n",
        "plt.title(\"Histogram of atemp\")\n",
        "plt.ylabel('Frequency')\n",
        "plt.show()"
      ],
      "metadata": {
        "colab": {
          "base_uri": "https://localhost:8080/",
          "height": 295
        },
        "id": "6vNAdUN3sIQP",
        "outputId": "83e34499-764e-4b6a-e08f-46e90f314bf4"
      },
      "execution_count": null,
      "outputs": [
        {
          "output_type": "display_data",
          "data": {
            "image/png": "[encoded data removed]",
            "text/plain": [
              "<Figure size 432x288 with 1 Axes>"
            ]
          },
          "metadata": {
            "needs_background": "light"
          }
        }
      ]
    },
    {
      "cell_type": "code",
      "source": [
        "sns.distplot(data['humidity'], kde=False)\n",
        "plt.title(\"Histogram of humidity\")\n",
        "plt.ylabel('Frequency')\n",
        "plt.show()"
      ],
      "metadata": {
        "colab": {
          "base_uri": "https://localhost:8080/",
          "height": 295
        },
        "id": "l5egcpGmsSyo",
        "outputId": "531c995d-14e7-466d-d247-bfc17c23221a"
      },
      "execution_count": null,
      "outputs": [
        {
          "output_type": "display_data",
          "data": {
            "image/png": "[encoded data removed]",
            "text/plain": [
              "<Figure size 432x288 with 1 Axes>"
            ]
          },
          "metadata": {
            "needs_background": "light"
          }
        }
      ]
    },
    {
      "cell_type": "code",
      "source": [
        "sns.distplot(df['windspeed'], kde=False)\n",
        "plt.title(\"Histogram of windspeed\")\n",
        "plt.ylabel('Frequency')\n",
        "plt.show()"
      ],
      "metadata": {
        "colab": {
          "base_uri": "https://localhost:8080/",
          "height": 295
        },
        "id": "NDek14Z5swDP",
        "outputId": "fa60bb2f-2d65-4ea8-868e-d2d4e564401b"
      },
      "execution_count": null,
      "outputs": [
        {
          "output_type": "display_data",
          "data": {
            "image/png": "[encoded data removed]",
            "text/plain": [
              "<Figure size 432x288 with 1 Axes>"
            ]
          },
          "metadata": {
            "needs_background": "light"
          }
        }
      ]
    },
    {
      "cell_type": "code",
      "source": [
        "sns.distplot(data['hour'], kde=False)\n",
        "plt.title(\"Histogram of Hours\")\n",
        "plt.ylabel('Frequency')\n",
        "plt.show()"
      ],
      "metadata": {
        "colab": {
          "base_uri": "https://localhost:8080/",
          "height": 295
        },
        "id": "DYPN-sUhs6_-",
        "outputId": "242e774e-cec2-4f01-f0fc-cb22e645ed46"
      },
      "execution_count": null,
      "outputs": [
        {
          "output_type": "display_data",
          "data": {
            "image/png": "[encoded data removed]",
            "text/plain": [
              "<Figure size 432x288 with 1 Axes>"
            ]
          },
          "metadata": {
            "needs_background": "light"
          }
        }
      ]
    },
    {
      "cell_type": "code",
      "source": [
        "sns.distplot(df['total_bookings'], kde=False)\n",
        "plt.title(\"Histogram of Total Bookings\")\n",
        "plt.ylabel('Frequency')\n",
        "plt.show()"
      ],
      "metadata": {
        "colab": {
          "base_uri": "https://localhost:8080/",
          "height": 296
        },
        "id": "5FiXceTatQ6y",
        "outputId": "d5096bf7-6d6b-4fcd-908d-a651e56ecea5"
      },
      "execution_count": null,
      "outputs": [
        {
          "output_type": "display_data",
          "data": {
            "image/png": "[encoded data removed]",
            "text/plain": [
              "<Figure size 432x288 with 1 Axes>"
            ]
          },
          "metadata": {
            "needs_background": "light"
          }
        }
      ]
    },
    {
      "cell_type": "markdown",
      "source": [
        "## Converting the categorical data"
      ],
      "metadata": {
        "id": "-oqORT_As7oO"
      }
    },
    {
      "cell_type": "code",
      "source": [
        "data=pd.get_dummies(data, columns=['weekday', 'month','season', 'weather'])"
      ],
      "metadata": {
        "id": "WiNANfXhtu1B"
      },
      "execution_count": null,
      "outputs": []
    },
    {
      "cell_type": "code",
      "source": [
        "X=data.drop(columns=['datetime','dates','total_bookings'], axis=1)"
      ],
      "metadata": {
        "id": "aMcEaa4BuPuK"
      },
      "execution_count": null,
      "outputs": []
    },
    {
      "cell_type": "code",
      "source": [
        "Y=data['total_bookings']"
      ],
      "metadata": {
        "id": "QCx1p5PduvGd"
      },
      "execution_count": null,
      "outputs": []
    },
    {
      "cell_type": "markdown",
      "source": [
        "## Fiittng random forest regression "
      ],
      "metadata": {
        "id": "iWwuwgU9vMjd"
      }
    },
    {
      "cell_type": "code",
      "source": [
        "from sklearn.ensemble import RandomForestRegressor"
      ],
      "metadata": {
        "id": "kmc4nL82gYMS"
      },
      "execution_count": null,
      "outputs": []
    },
    {
      "cell_type": "code",
      "source": [
        "regression=RandomForestRegressor(n_estimators=100, max_depth=21)\n",
        "regression.fit(X,Y)"
      ],
      "metadata": {
        "colab": {
          "base_uri": "https://localhost:8080/"
        },
        "id": "dsgkGqrdvkJH",
        "outputId": "84d3bbe5-0186-4fdf-c3d0-523798294dbd"
      },
      "execution_count": null,
      "outputs": [
        {
          "output_type": "execute_result",
          "data": {
            "text/plain": [
              "RandomForestRegressor(max_depth=21)"
            ]
          },
          "metadata": {},
          "execution_count": 74
        }
      ]
    },
    {
      "cell_type": "code",
      "source": [
        "y_pred=regression.predict(X)"
      ],
      "metadata": {
        "id": "VUiBOa4Kvy-y"
      },
      "execution_count": null,
      "outputs": []
    },
    {
      "cell_type": "markdown",
      "source": [
        "## mean_squared_log_error"
      ],
      "metadata": {
        "id": "15hF0IJ8OQee"
      }
    },
    {
      "cell_type": "code",
      "source": [
        "from sklearn.metrics import mean_squared_log_error\n",
        "mean_squared_log_error(Y, y_pred)"
      ],
      "metadata": {
        "colab": {
          "base_uri": "https://localhost:8080/"
        },
        "id": "gzBw7moPwOsc",
        "outputId": "bb42828b-ee5f-41f7-e9b2-4be60d5f1c25"
      },
      "execution_count": null,
      "outputs": [
        {
          "output_type": "execute_result",
          "data": {
            "text/plain": [
              "0.0542858154020648"
            ]
          },
          "metadata": {},
          "execution_count": 76
        }
      ]
    }
  ]
}